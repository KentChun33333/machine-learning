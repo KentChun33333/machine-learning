{
 "cells": [
  {
   "cell_type": "code",
   "execution_count": 2,
   "metadata": {
    "collapsed": false
   },
   "outputs": [],
   "source": [
    "import pandas as pd\n",
    "import numpy as np\n",
    "from scipy.stats import ttest_ind"
   ]
  },
  {
   "cell_type": "code",
   "execution_count": 4,
   "metadata": {
    "collapsed": false
   },
   "outputs": [
    {
     "name": "stdout",
     "output_type": "stream",
     "text": [
      "24\n"
     ]
    },
    {
     "data": {
      "text/plain": [
       "Ttest_indResult(statistic=6.5322505539032285, pvalue=4.5949489622951854e-08)"
      ]
     },
     "execution_count": 4,
     "metadata": {},
     "output_type": "execute_result"
    }
   ],
   "source": [
    "rb = pd.read_csv('Congruent.csv')\n",
    "con = np.array(rb.ix[:,0])\n",
    "print len(con)\n",
    "incon = np.array(rb.ix[:,1])\n",
    "ttest_ind(con,incon)\n",
    "ttest_ind(incon, con)"
   ]
  },
  {
   "cell_type": "code",
   "execution_count": 24,
   "metadata": {
    "collapsed": false
   },
   "outputs": [
    {
     "name": "stdout",
     "output_type": "stream",
     "text": [
      "4.76239803022\n",
      "4.76239803022\n",
      "1.19059950756\n"
     ]
    }
   ],
   "source": [
    "from scipy.stats import sem\n",
    "d = con - incon\n",
    "print sem(-d, ddof=23)\n",
    "print d.std()\n",
    "print sem(-d, ddof=8)"
   ]
  },
  {
   "cell_type": "markdown",
   "metadata": {},
   "source": [
    "- The one-sided tests can be backed out from the two-sided tests. (With symmetric distributions one-sided p-value is just half of the two-sided pvalue)\n",
    "\n",
    "- It goes on to say that scipy always gives the test statistic as signed. This means that given p and t values from a two-tailed test, you would reject the null hypothesis of a greater-than test when p/2 < alpha and t > 0, and of a less-than test when p/2 < alpha and t < 0."
   ]
  },
  {
   "cell_type": "markdown",
   "metadata": {},
   "source": [
    "A typical confidence level of α = .05 will return critical statistics of t = 1.714 in a one-tailed test and t = 2.069 in a two-tailed test (23 degrees of freedom). At α = .01, t = 2.500 for one tail and t = 2.807 for two tails. If the student has set the test up correctly, they should obtain a t-statistic of -8.02. If they report a p-value (not required), they should get a p-value of <.0001 if they’re looking it up from a table, 2.05 10^-8 if they’re calculating an exact value on a one-tailed test, or 4.10 10^-8 if they’re getting an exact value from a two-tailed test.\n",
    "\n",
    "Make sure that students also interpret the test result in terms of the task itself, that there is a significant difference in the mean task completion times between conditions or that it takes significantly longer to complete the incongruent-condition task than the congruent-condition task."
   ]
  },
  {
   "cell_type": "code",
   "execution_count": null,
   "metadata": {
    "collapsed": false
   },
   "outputs": [
    {
     "name": "stderr",
     "output_type": "stream",
     "text": [
      "C:\\Users\\kentc\\Anaconda2\\lib\\site-packages\\ggplot\\stats\\stat_smooth.py:77: FutureWarning: sort(columns=....) is deprecated, use sort_values(by=.....)\n",
      "  smoothed_data = smoothed_data.sort('x')\n"
     ]
    }
   ],
   "source": [
    "from ggplot import *\n",
    "\n",
    "ggplot(aes(x='date', y='beef'), data=meat) +\\\n",
    "    geom_line() +\\\n",
    "    stat_smooth(colour='blue', span=0.2)"
   ]
  },
  {
   "cell_type": "code",
   "execution_count": 28,
   "metadata": {
    "collapsed": false
   },
   "outputs": [
    {
     "name": "stdout",
     "output_type": "stream",
     "text": [
      "0.689803421497\n",
      "0.00259003858082\n"
     ]
    }
   ],
   "source": [
    "from scipy.stats import shapiro\n",
    "# Help to check gausian or non-gausian // normal or not normal\n",
    "w, p = shapiro(con)\n",
    "\n",
    "print p\n",
    "\n",
    "w, p = shapiro(incon)\n",
    "\n",
    "print p\n",
    "\n",
    "# Ho = the data is gausian distribution\n",
    "# Ha = non-gaussian \n",
    "# if p<0.05=> reject the null ."
   ]
  },
  {
   "cell_type": "code",
   "execution_count": 32,
   "metadata": {
    "collapsed": false
   },
   "outputs": [
    {
     "data": {
      "text/plain": [
       "MannwhitneyuResult(statistic=37.0, pvalue=1.2007625250896612e-07)"
      ]
     },
     "execution_count": 32,
     "metadata": {},
     "output_type": "execute_result"
    }
   ],
   "source": [
    "from scipy.stats import mannwhitneyu\n",
    "mannwhitneyu(con, incon)\n",
    "# non-parametric test \n",
    "# Ho = this 2 sample are from the same population \n"
   ]
  },
  {
   "cell_type": "code",
   "execution_count": null,
   "metadata": {
    "collapsed": true
   },
   "outputs": [],
   "source": [
    "# one sample t test \n",
    "# Ho: u = uo (該抽樣樣本的均值為母體樣本均值)\n",
    "\n",
    "# two sample t test \n",
    "# Ho : u1=u2\n",
    "# Ha : u1!=u2 ()"
   ]
  }
 ],
 "metadata": {
  "anaconda-cloud": {},
  "kernelspec": {
   "display_name": "Python [Root]",
   "language": "python",
   "name": "Python [Root]"
  },
  "language_info": {
   "codemirror_mode": {
    "name": "ipython",
    "version": 2
   },
   "file_extension": ".py",
   "mimetype": "text/x-python",
   "name": "python",
   "nbconvert_exporter": "python",
   "pygments_lexer": "ipython2",
   "version": "2.7.12"
  }
 },
 "nbformat": 4,
 "nbformat_minor": 0
}
