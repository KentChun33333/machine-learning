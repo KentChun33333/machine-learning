{
 "cells": [
  {
   "cell_type": "markdown",
   "metadata": {},
   "source": [
    "# Data Investigation on Titanic\n",
    "### Report Outline \n",
    " 1. Introduction\n",
    " 2. Proposed Questions\n",
    " 3. Data Wrangling \n",
    " 4. Data Exploration \n",
    " 5. Conclusion\n",
    " 6. Reference Links"
   ]
  },
  {
   "cell_type": "markdown",
   "metadata": {},
   "source": [
    "### 1. Introduction \n",
    "\n",
    "- The Titanic Dataset is selected to perform the investigation from Kaggle. \n",
    "- The structure of this report is basically following the Udacity rubric. \n",
    "- The questions are proposed in Proposed Question (section 2). \n",
    "- The file-io, cleanning missing value, and ..etc are addressed in Data Wrangling(section 3).\n",
    "- The data exploration & hypothesis test with questions are discussed in Data Exploration(section 4).\n",
    "- More exploration and data exploration is in (section 5)"
   ]
  },
  {
   "cell_type": "markdown",
   "metadata": {},
   "source": [
    "### 2. Proposed Questions\n",
    "- Which Age group had a better chance of survival ?\n",
    "- Which Social class had a better chance of survival?\n",
    "- Which Gender had a better chance of survival ?\n"
   ]
  },
  {
   "cell_type": "markdown",
   "metadata": {},
   "source": [
    "### 3. Data Wrangling Phase\n",
    "- This section mainly contains the code implementation with \n",
    "    - Handling csv file-io\n",
    "    - Check the data quality with missing value\n",
    "    - Select the targeted data\n",
    "    - Drop the null value\n",
    "    - Feature engineering(part-1) of assign the index to the Sex feature.\n",
    "    - Feature engineering(part-2) of discretize the Age feature.\n",
    "- The statistical explorations would be on the next section.\n",
    "- According to the proposed questions, we are going to explore the dataset that contains Age, Social, Gender and Survival."
   ]
  },
  {
   "cell_type": "markdown",
   "metadata": {},
   "source": [
    "#### 3-1 Read the CSV File and Probe the Missing Value"
   ]
  },
  {
   "cell_type": "code",
   "execution_count": 1,
   "metadata": {
    "collapsed": false
   },
   "outputs": [
    {
     "name": "stdout",
     "output_type": "stream",
     "text": [
      "------------------------------------\n",
      "         Basic Information \n",
      "------------------------------------\n",
      "<class 'pandas.core.frame.DataFrame'>\n",
      "RangeIndex: 891 entries, 0 to 890\n",
      "Data columns (total 12 columns):\n",
      "PassengerId    891 non-null int64\n",
      "Survived       891 non-null int64\n",
      "Pclass         891 non-null int64\n",
      "Name           891 non-null object\n",
      "Sex            891 non-null object\n",
      "Age            714 non-null float64\n",
      "SibSp          891 non-null int64\n",
      "Parch          891 non-null int64\n",
      "Ticket         891 non-null object\n",
      "Fare           891 non-null float64\n",
      "Cabin          204 non-null object\n",
      "Embarked       889 non-null object\n",
      "dtypes: float64(2), int64(5), object(5)\n",
      "memory usage: 83.6+ KB\n"
     ]
    },
    {
     "data": {
      "text/plain": [
       "None"
      ]
     },
     "metadata": {},
     "output_type": "display_data"
    },
    {
     "name": "stdout",
     "output_type": "stream",
     "text": [
      "-------------------------------------\n",
      "        Missing Values Counts \n",
      "-------------------------------------\n"
     ]
    },
    {
     "data": {
      "text/plain": [
       "PassengerId      0\n",
       "Survived         0\n",
       "Pclass           0\n",
       "Name             0\n",
       "Sex              0\n",
       "Age            177\n",
       "SibSp            0\n",
       "Parch            0\n",
       "Ticket           0\n",
       "Fare             0\n",
       "Cabin          687\n",
       "Embarked         2\n",
       "dtype: int64"
      ]
     },
     "metadata": {},
     "output_type": "display_data"
    }
   ],
   "source": [
    "# import data process tools\n",
    "import numpy as np\n",
    "import pandas as pd\n",
    "from scipy import stats\n",
    "from IPython.display import display \n",
    "\n",
    "# import visualization tools\n",
    "import seaborn as sns\n",
    "import matplotlib.pyplot as plt\n",
    "%matplotlib inline\n",
    "\n",
    "###############\n",
    "# CSV File IO #\n",
    "###############\n",
    "\n",
    "# read raw data from csv file\n",
    "try :\n",
    "    df_raw = pd.read_csv('titanic_data.csv')\n",
    "except:\n",
    "    print 'Missing file : [titanic_data.csv]'\n",
    "\n",
    "# Inspect the column \n",
    "print '------------------------------------'\n",
    "print '         Basic Information '  \n",
    "print '------------------------------------'\n",
    "display(df_raw.info())\n",
    "\n",
    "\n",
    "#######################\n",
    "# Missing Value Check #\n",
    "#######################\n",
    "print '-------------------------------------'\n",
    "print '        Missing Values Counts ' \n",
    "print '-------------------------------------'\n",
    "display(df_raw.isnull().sum())"
   ]
  },
  {
   "cell_type": "markdown",
   "metadata": {},
   "source": [
    "#### 3-2 Select the data related to proposed question and Drop the missing values\n",
    "\n",
    "Based on the question, we select out column with Survived, Pclass, Sex and Age.\n",
    "After droping missing values, there are 714 rows of the data."
   ]
  },
  {
   "cell_type": "code",
   "execution_count": 2,
   "metadata": {
    "collapsed": false
   },
   "outputs": [
    {
     "data": {
      "text/html": [
       "<div>\n",
       "<table border=\"1\" class=\"dataframe\">\n",
       "  <thead>\n",
       "    <tr style=\"text-align: right;\">\n",
       "      <th></th>\n",
       "      <th>Survived</th>\n",
       "      <th>Pclass</th>\n",
       "      <th>Sex</th>\n",
       "      <th>Age</th>\n",
       "    </tr>\n",
       "  </thead>\n",
       "  <tbody>\n",
       "    <tr>\n",
       "      <th>0</th>\n",
       "      <td>0</td>\n",
       "      <td>3</td>\n",
       "      <td>male</td>\n",
       "      <td>22.0</td>\n",
       "    </tr>\n",
       "    <tr>\n",
       "      <th>1</th>\n",
       "      <td>1</td>\n",
       "      <td>1</td>\n",
       "      <td>female</td>\n",
       "      <td>38.0</td>\n",
       "    </tr>\n",
       "    <tr>\n",
       "      <th>2</th>\n",
       "      <td>1</td>\n",
       "      <td>3</td>\n",
       "      <td>female</td>\n",
       "      <td>26.0</td>\n",
       "    </tr>\n",
       "    <tr>\n",
       "      <th>3</th>\n",
       "      <td>1</td>\n",
       "      <td>1</td>\n",
       "      <td>female</td>\n",
       "      <td>35.0</td>\n",
       "    </tr>\n",
       "    <tr>\n",
       "      <th>4</th>\n",
       "      <td>0</td>\n",
       "      <td>3</td>\n",
       "      <td>male</td>\n",
       "      <td>35.0</td>\n",
       "    </tr>\n",
       "    <tr>\n",
       "      <th>6</th>\n",
       "      <td>0</td>\n",
       "      <td>1</td>\n",
       "      <td>male</td>\n",
       "      <td>54.0</td>\n",
       "    </tr>\n",
       "    <tr>\n",
       "      <th>7</th>\n",
       "      <td>0</td>\n",
       "      <td>3</td>\n",
       "      <td>male</td>\n",
       "      <td>2.0</td>\n",
       "    </tr>\n",
       "    <tr>\n",
       "      <th>8</th>\n",
       "      <td>1</td>\n",
       "      <td>3</td>\n",
       "      <td>female</td>\n",
       "      <td>27.0</td>\n",
       "    </tr>\n",
       "    <tr>\n",
       "      <th>9</th>\n",
       "      <td>1</td>\n",
       "      <td>2</td>\n",
       "      <td>female</td>\n",
       "      <td>14.0</td>\n",
       "    </tr>\n",
       "    <tr>\n",
       "      <th>10</th>\n",
       "      <td>1</td>\n",
       "      <td>3</td>\n",
       "      <td>female</td>\n",
       "      <td>4.0</td>\n",
       "    </tr>\n",
       "  </tbody>\n",
       "</table>\n",
       "</div>"
      ],
      "text/plain": [
       "    Survived  Pclass     Sex   Age\n",
       "0          0       3    male  22.0\n",
       "1          1       1  female  38.0\n",
       "2          1       3  female  26.0\n",
       "3          1       1  female  35.0\n",
       "4          0       3    male  35.0\n",
       "6          0       1    male  54.0\n",
       "7          0       3    male   2.0\n",
       "8          1       3  female  27.0\n",
       "9          1       2  female  14.0\n",
       "10         1       3  female   4.0"
      ]
     },
     "metadata": {},
     "output_type": "display_data"
    },
    {
     "name": "stdout",
     "output_type": "stream",
     "text": [
      "------------------------------------------------------------\n",
      "The raw data is with 891 rows of records\n",
      "The data we explore is with 714 rows of records\n"
     ]
    }
   ],
   "source": [
    "###############\n",
    "# Select Data #\n",
    "###############\n",
    "\n",
    "# According to the proposed question select related variables\n",
    "select_vars = ['Survived','Pclass', 'Sex', 'Age']\n",
    "    \n",
    "# drop other variables/features \n",
    "df_select = df_raw.loc[:,select_vars]\n",
    "\n",
    "# fill out NA \n",
    "df_dropna = df_select.dropna().reindex()\n",
    "\n",
    "# display the target dataset 10 raws for visual-check\n",
    "display(df_dropna.ix[:10,:])\n",
    "print '------------------------------------------------------------'\n",
    "print 'The raw data is with {} rows of records'.format(len(df_raw))\n",
    "print 'The data we explore is with {} rows of records'.format(len(df_dropna))"
   ]
  },
  {
   "cell_type": "markdown",
   "metadata": {},
   "source": [
    "#### 3-3 Feature Process for each feature to be categorical data\n",
    "\n",
    "##### 3-3-1 Feature Process on Sex\n",
    "Since the Sex is contrian the str object, we endoded as male = 1 and female = 0"
   ]
  },
  {
   "cell_type": "code",
   "execution_count": 3,
   "metadata": {
    "collapsed": false
   },
   "outputs": [
    {
     "name": "stdout",
     "output_type": "stream",
     "text": [
      "Change Sex feature into 0 and 1 \n"
     ]
    },
    {
     "data": {
      "text/html": [
       "<div>\n",
       "<table border=\"1\" class=\"dataframe\">\n",
       "  <thead>\n",
       "    <tr style=\"text-align: right;\">\n",
       "      <th></th>\n",
       "      <th>Survived</th>\n",
       "      <th>Pclass</th>\n",
       "      <th>Sex</th>\n",
       "      <th>Age</th>\n",
       "    </tr>\n",
       "  </thead>\n",
       "  <tbody>\n",
       "    <tr>\n",
       "      <th>0</th>\n",
       "      <td>0</td>\n",
       "      <td>3</td>\n",
       "      <td>1</td>\n",
       "      <td>22.0</td>\n",
       "    </tr>\n",
       "    <tr>\n",
       "      <th>1</th>\n",
       "      <td>1</td>\n",
       "      <td>1</td>\n",
       "      <td>0</td>\n",
       "      <td>38.0</td>\n",
       "    </tr>\n",
       "    <tr>\n",
       "      <th>2</th>\n",
       "      <td>1</td>\n",
       "      <td>3</td>\n",
       "      <td>0</td>\n",
       "      <td>26.0</td>\n",
       "    </tr>\n",
       "    <tr>\n",
       "      <th>3</th>\n",
       "      <td>1</td>\n",
       "      <td>1</td>\n",
       "      <td>0</td>\n",
       "      <td>35.0</td>\n",
       "    </tr>\n",
       "    <tr>\n",
       "      <th>4</th>\n",
       "      <td>0</td>\n",
       "      <td>3</td>\n",
       "      <td>1</td>\n",
       "      <td>35.0</td>\n",
       "    </tr>\n",
       "  </tbody>\n",
       "</table>\n",
       "</div>"
      ],
      "text/plain": [
       "   Survived  Pclass  Sex   Age\n",
       "0         0       3    1  22.0\n",
       "1         1       1    0  38.0\n",
       "2         1       3    0  26.0\n",
       "3         1       1    0  35.0\n",
       "4         0       3    1  35.0"
      ]
     },
     "metadata": {},
     "output_type": "display_data"
    }
   ],
   "source": [
    "#########################\n",
    "# Feature Engineering 1 #\n",
    "#########################\n",
    "# since the Sex is contrian the str object. \n",
    "# we endoded as male = 1 and female = 0\n",
    "\n",
    "def numerize_Sex(x):\n",
    "    if x=='male':\n",
    "        return 1\n",
    "    return 0\n",
    "\n",
    "# Copy for manipulation \n",
    "df_numerize_Sex = df_dropna.copy()\n",
    "\n",
    "# apply the function on the sex feature\n",
    "df_numerize_Sex['Sex'] = df_numerize_Sex['Sex'].apply(numerize_Sex)\n",
    "\n",
    "# Visualize # display the target dataset 5 raws for visual-check\n",
    "print ('Change Sex feature into 0 and 1 ')\n",
    "display(df_numerize_Sex.ix[:5,:])\n",
    "\n"
   ]
  },
  {
   "cell_type": "markdown",
   "metadata": {},
   "source": [
    "##### 3-3-2 Feature Process on Age\n",
    "We also notice that Age features seems to be continuous.\n",
    "We first visualize it with histogram with different bins numbers.\n",
    "Then we decided the interval to descretize the Age data in to catagorical data."
   ]
  },
  {
   "cell_type": "code",
   "execution_count": 4,
   "metadata": {
    "collapsed": false
   },
   "outputs": [
    {
     "name": "stdout",
     "output_type": "stream",
     "text": [
      "Histogram of Age (Bins=5) \n"
     ]
    },
    {
     "data": {
      "text/plain": [
       "<matplotlib.axes._subplots.AxesSubplot at 0x3c5ec88>"
      ]
     },
     "execution_count": 4,
     "metadata": {},
     "output_type": "execute_result"
    },
    {
     "data": {
      "image/png": "[encoded data removed]",
      "text/plain": [
       "<matplotlib.figure.Figure at 0x3c5ef98>"
      ]
     },
     "metadata": {},
     "output_type": "display_data"
    }
   ],
   "source": [
    "print ('Histogram of Age (Bins=5) ')\n",
    "df_numerize_Sex['Age'].hist(bins=5)\n"
   ]
  },
  {
   "cell_type": "code",
   "execution_count": 5,
   "metadata": {
    "collapsed": false
   },
   "outputs": [
    {
     "name": "stdout",
     "output_type": "stream",
     "text": [
      "Histogram of Age (Bins=8) \n"
     ]
    },
    {
     "data": {
      "text/plain": [
       "<matplotlib.axes._subplots.AxesSubplot at 0xbc20668>"
      ]
     },
     "execution_count": 5,
     "metadata": {},
     "output_type": "execute_result"
    },
    {
     "data": {
      "image/png": "[encoded data removed]",
      "text/plain": [
       "<matplotlib.figure.Figure at 0x3c5ed68>"
      ]
     },
     "metadata": {},
     "output_type": "display_data"
    }
   ],
   "source": [
    "print ('Histogram of Age (Bins=8) ')\n",
    "df_numerize_Sex['Age'].hist(bins=8)\n"
   ]
  },
  {
   "cell_type": "markdown",
   "metadata": {},
   "source": [
    "###### Decide the interval \n",
    "We could see from the histogram that the best interval for bin-size might be about 9~11.\n",
    "Here we chose the folling setting : \n",
    "- 0~10   => 0\n",
    "- 11~20 => 1\n",
    "- 21~30 => 2\n",
    "- 31~40 => 3\n",
    "- .... etc \n"
   ]
  },
  {
   "cell_type": "code",
   "execution_count": 8,
   "metadata": {
    "collapsed": false
   },
   "outputs": [
    {
     "name": "stdout",
     "output_type": "stream",
     "text": [
      "Change Age feature into 0 to 10 catagories\n"
     ]
    },
    {
     "data": {
      "text/html": [
       "<div>\n",
       "<table border=\"1\" class=\"dataframe\">\n",
       "  <thead>\n",
       "    <tr style=\"text-align: right;\">\n",
       "      <th></th>\n",
       "      <th>Survived</th>\n",
       "      <th>Pclass</th>\n",
       "      <th>Sex</th>\n",
       "      <th>Age</th>\n",
       "    </tr>\n",
       "  </thead>\n",
       "  <tbody>\n",
       "    <tr>\n",
       "      <th>0</th>\n",
       "      <td>0</td>\n",
       "      <td>3</td>\n",
       "      <td>1</td>\n",
       "      <td>2</td>\n",
       "    </tr>\n",
       "    <tr>\n",
       "      <th>1</th>\n",
       "      <td>1</td>\n",
       "      <td>1</td>\n",
       "      <td>0</td>\n",
       "      <td>3</td>\n",
       "    </tr>\n",
       "    <tr>\n",
       "      <th>2</th>\n",
       "      <td>1</td>\n",
       "      <td>3</td>\n",
       "      <td>0</td>\n",
       "      <td>2</td>\n",
       "    </tr>\n",
       "    <tr>\n",
       "      <th>3</th>\n",
       "      <td>1</td>\n",
       "      <td>1</td>\n",
       "      <td>0</td>\n",
       "      <td>3</td>\n",
       "    </tr>\n",
       "    <tr>\n",
       "      <th>4</th>\n",
       "      <td>0</td>\n",
       "      <td>3</td>\n",
       "      <td>1</td>\n",
       "      <td>3</td>\n",
       "    </tr>\n",
       "  </tbody>\n",
       "</table>\n",
       "</div>"
      ],
      "text/plain": [
       "   Survived  Pclass  Sex  Age\n",
       "0         0       3    1    2\n",
       "1         1       1    0    3\n",
       "2         1       3    0    2\n",
       "3         1       1    0    3\n",
       "4         0       3    1    3"
      ]
     },
     "metadata": {},
     "output_type": "display_data"
    }
   ],
   "source": [
    "#########################\n",
    "# Feature Engineering 2 #\n",
    "#########################\n",
    "# We also notice that Age features seems to be continuous, \n",
    "# We could decretize it into the categorical features \n",
    "# by with the help of histogram and bin-size\n",
    "\n",
    "\n",
    "# Copy previous dataframe for manipulation \n",
    "df_feature2 = df_numerize_Sex.copy()\n",
    "\n",
    "# Apply the lamba function for descretizaton\n",
    "df_feature2['Age'] = df_feature2['Age'].apply(lambda x: int((x+1) /10.0))\n",
    "\n",
    "print ('Change Age feature into 0 to 10 catagories')\n",
    "display(df_feature2.ix[:5,:])\n"
   ]
  },
  {
   "cell_type": "markdown",
   "metadata": {},
   "source": [
    "### 4. Data Exploration with Hypothesis Test\n",
    "- In this section, we are going to first explore the basic information about the target dataset. Then we are going to use the hypothesis test to judge whether the Age, Social-class or Gender would contributed to Survials or not.\n",
    "\n",
    "##### [-] The Reason of Chosing Chi-square method to do the test\n",
    "\n",
    "- Since our data is Categorical rather than Numerical, which is aslo considered as non-parametric, we chose the Chi-square of independent test to check 2 varibles are dependent or independent. \n",
    "\n",
    "- The Chi-square test of independence assesses whether unpaired observations on two variables, expressed in a contingency table, are independent of each other. \n",
    "\n",
    "- We have to also notice the limitations of chi-square during our testing process as following.\n",
    "\n",
    "##### [-] The Chi-square limitations \n",
    "\n",
    "- The chi-square test does not give us much information about the strength of the relationship or its substantive significance in the population. \n",
    "\n",
    "- The chi-square test is sensitive to sample size. The size of the calculated chi-square is directly proportional to the size of the sample, independent of the strength of the relationship between the variables. The sensitivity of chi-square to sample size may make a weak relationship statistically significant if the sample is large enough. Therefore, we need to use tests of significance like chi-square together with measures of association like lambda, Cramer's V or gamma.\n",
    "\n",
    "- The chi-square test is also sensitive to small expected frequencies in one or more of the cells in the table, which would cause bias problem. Since chi-square is sensitive to small expected frequencies in the cells, we have to be very cautious in interpreting chi-square if one or more cells are less than 5. As Frankfort-Nachmias and Leon-Guerrero note, \"most researchers limit the use of chi-square to tables that either (1) have no fe values below 5 in value or (2) have no more than 20 percent of the fe values below 5 in value.\"\n",
    "\n",
    "##### [-] Set the Alpha level \n",
    "\n",
    "- Here we set the Alpha-level as 0.05. If the p-value is larger than alpha-level, we fail to reject the null-hypothesis. However it does not mean we accept it, just the data is not enough to reject it. On the other hand, if the p-value is smaller than alpha-level, we would able to reject the null-hypothesis. \n",
    "\n",
    "- In general, the lager degree-of-freedom of the variables, the less skewness of the chi-distribution, and thus it would be harder to reject the null hypothesis because the we would need a higher chi-static score.    \n",
    "\n"
   ]
  },
  {
   "cell_type": "markdown",
   "metadata": {},
   "source": [
    "\n",
    "#### 4-1: Which Age group had a better chance of survival ? \n",
    "\n",
    "##### [-] 4-1-1 : Hypothesis test \n",
    "- Ho (null) : Age and Survials are independent.\n",
    "- Ha (alternative) : Age and Survials are dependent."
   ]
  },
  {
   "cell_type": "code",
   "execution_count": 9,
   "metadata": {
    "collapsed": false
   },
   "outputs": [
    {
     "data": {
      "text/html": [
       "<div>\n",
       "<table border=\"1\" class=\"dataframe\">\n",
       "  <thead>\n",
       "    <tr style=\"text-align: right;\">\n",
       "      <th>Age</th>\n",
       "      <th>0</th>\n",
       "      <th>1</th>\n",
       "      <th>2</th>\n",
       "      <th>3</th>\n",
       "      <th>4</th>\n",
       "      <th>5</th>\n",
       "      <th>6</th>\n",
       "      <th>7</th>\n",
       "      <th>8</th>\n",
       "    </tr>\n",
       "    <tr>\n",
       "      <th>Survived</th>\n",
       "      <th></th>\n",
       "      <th></th>\n",
       "      <th></th>\n",
       "      <th></th>\n",
       "      <th></th>\n",
       "      <th></th>\n",
       "      <th></th>\n",
       "      <th></th>\n",
       "      <th></th>\n",
       "    </tr>\n",
       "  </thead>\n",
       "  <tbody>\n",
       "    <tr>\n",
       "      <th>0</th>\n",
       "      <td>18</td>\n",
       "      <td>51</td>\n",
       "      <td>147</td>\n",
       "      <td>97</td>\n",
       "      <td>62</td>\n",
       "      <td>28</td>\n",
       "      <td>15</td>\n",
       "      <td>6</td>\n",
       "      <td>0</td>\n",
       "    </tr>\n",
       "    <tr>\n",
       "      <th>1</th>\n",
       "      <td>36</td>\n",
       "      <td>34</td>\n",
       "      <td>78</td>\n",
       "      <td>76</td>\n",
       "      <td>35</td>\n",
       "      <td>24</td>\n",
       "      <td>6</td>\n",
       "      <td>0</td>\n",
       "      <td>1</td>\n",
       "    </tr>\n",
       "  </tbody>\n",
       "</table>\n",
       "</div>"
      ],
      "text/plain": [
       "Age        0   1    2   3   4   5   6  7  8\n",
       "Survived                                   \n",
       "0         18  51  147  97  62  28  15  6  0\n",
       "1         36  34   78  76  35  24   6  0  1"
      ]
     },
     "metadata": {},
     "output_type": "display_data"
    },
    {
     "name": "stdout",
     "output_type": "stream",
     "text": [
      "P-value : [0.00055] for Age vs Survived\n"
     ]
    }
   ],
   "source": [
    "from scipy.stats import chi2_contingency\n",
    "from statsmodels.graphics.mosaicplot import mosaic\n",
    "\n",
    "def chi_test(df, colName):\n",
    "    assert type(colName)==str\n",
    "    \n",
    "    # create contengency table \n",
    "    df_analyse = pd.crosstab(df[colName], df['Survived']).T\n",
    "    \n",
    "    # Visulizatoin \n",
    "    display(df_analyse)\n",
    "    \n",
    "    # Use chi2_contingency test of independent \n",
    "    chi2, p, dof, expected = chi2_contingency(df_analyse)\n",
    "    print 'P-value : [{}] for {} vs Survived'.format(round(p,5),colName)\n",
    "    \n",
    "def visualize_survival_rate(df, x_col):\n",
    "    sns.barplot(x=x_col, y='Survived',errwidth =0, data=df);\n",
    "\n",
    "def visualize_mosaic(df, x_col):\n",
    "    mosaic(df, [x_col, 'Survived'], axes_label=True)\n",
    "    \n",
    "# Do the Chi-Test\n",
    "chi_test(df_feature2, 'Age')\n"
   ]
  },
  {
   "cell_type": "markdown",
   "metadata": {},
   "source": [
    "###### Test result\n",
    "- Accordinig to the following Chi-square of independent test, the p-value is less than 0.05. \n",
    "- We could reject the null hypothesis."
   ]
  },
  {
   "cell_type": "markdown",
   "metadata": {},
   "source": [
    "##### [-] 4-1-2 : Discussion and Visualization of survival rate."
   ]
  },
  {
   "cell_type": "code",
   "execution_count": 13,
   "metadata": {
    "collapsed": false
   },
   "outputs": [
    {
     "data": {
      "image/png": "[encoded data removed]",
      "text/plain": [
       "<matplotlib.figure.Figure at 0xca3eb70>"
      ]
     },
     "metadata": {},
     "output_type": "display_data"
    }
   ],
   "source": [
    "# Visaulization \n",
    "visualize_survival_rate(df_feature2,'Age' )\n"
   ]
  },
  {
   "cell_type": "markdown",
   "metadata": {},
   "source": [
    "##### Visulization result\n",
    "Base on the graph, it could be seen that the age-group in the 80~90 is more likely to survived. However, we also notice that the sample size in this age-group is really small. It is likely a highly biased result.\n"
   ]
  },
  {
   "cell_type": "markdown",
   "metadata": {},
   "source": [
    "\n",
    "#### 4-2 : Which Social class had a better chance of survival? \n",
    "\n",
    "##### [-] 4-2-1 : Hypothesis test \n",
    "- Ho : Social(Pclass) and Survials are independent.\n",
    "- Ha : They are dependent."
   ]
  },
  {
   "cell_type": "code",
   "execution_count": 14,
   "metadata": {
    "collapsed": false
   },
   "outputs": [
    {
     "data": {
      "text/html": [
       "<div>\n",
       "<table border=\"1\" class=\"dataframe\">\n",
       "  <thead>\n",
       "    <tr style=\"text-align: right;\">\n",
       "      <th>Pclass</th>\n",
       "      <th>1</th>\n",
       "      <th>2</th>\n",
       "      <th>3</th>\n",
       "    </tr>\n",
       "    <tr>\n",
       "      <th>Survived</th>\n",
       "      <th></th>\n",
       "      <th></th>\n",
       "      <th></th>\n",
       "    </tr>\n",
       "  </thead>\n",
       "  <tbody>\n",
       "    <tr>\n",
       "      <th>0</th>\n",
       "      <td>64</td>\n",
       "      <td>90</td>\n",
       "      <td>270</td>\n",
       "    </tr>\n",
       "    <tr>\n",
       "      <th>1</th>\n",
       "      <td>122</td>\n",
       "      <td>83</td>\n",
       "      <td>85</td>\n",
       "    </tr>\n",
       "  </tbody>\n",
       "</table>\n",
       "</div>"
      ],
      "text/plain": [
       "Pclass      1   2    3\n",
       "Survived              \n",
       "0          64  90  270\n",
       "1         122  83   85"
      ]
     },
     "metadata": {},
     "output_type": "display_data"
    },
    {
     "name": "stdout",
     "output_type": "stream",
     "text": [
      "P-value : [0.0] for Pclass vs Survived\n"
     ]
    }
   ],
   "source": [
    "chi_test(df_feature2, 'Pclass')"
   ]
  },
  {
   "cell_type": "markdown",
   "metadata": {},
   "source": [
    "###### Test result\n",
    "- Accordinig to the following Chi-square of independent test, the p-value is less than 0.05. \n",
    "- We could reject the null hypothesis."
   ]
  },
  {
   "cell_type": "markdown",
   "metadata": {},
   "source": [
    "##### [-] 4-2-2 : Discussion and Visualization of survival rate."
   ]
  },
  {
   "cell_type": "code",
   "execution_count": 12,
   "metadata": {
    "collapsed": false
   },
   "outputs": [
    {
     "data": {
      "image/png": "[encoded data removed]",
      "text/plain": [
       "<matplotlib.figure.Figure at 0xc7ab668>"
      ]
     },
     "metadata": {},
     "output_type": "display_data"
    }
   ],
   "source": [
    "# Visaulization Bar Chart \n",
    "visualize_survival_rate(df_feature2,'Pclass' )\n"
   ]
  },
  {
   "cell_type": "markdown",
   "metadata": {},
   "source": [
    "##### Visulization result\n",
    "Base on the graph, it could be seen that the Pclass-1 is more likely to survive."
   ]
  },
  {
   "cell_type": "markdown",
   "metadata": {},
   "source": [
    "#### 4-3 :  Which Gender had a better chance of survival ? \n",
    "\n",
    "##### [-] 4-3-1 : Hypothesis test \n",
    "- Ho : Gender(Sex) and Survials are independent.\n",
    "- Ha : They are dependent. "
   ]
  },
  {
   "cell_type": "code",
   "execution_count": 15,
   "metadata": {
    "collapsed": false
   },
   "outputs": [
    {
     "data": {
      "text/html": [
       "<div>\n",
       "<table border=\"1\" class=\"dataframe\">\n",
       "  <thead>\n",
       "    <tr style=\"text-align: right;\">\n",
       "      <th>Sex</th>\n",
       "      <th>0</th>\n",
       "      <th>1</th>\n",
       "    </tr>\n",
       "    <tr>\n",
       "      <th>Survived</th>\n",
       "      <th></th>\n",
       "      <th></th>\n",
       "    </tr>\n",
       "  </thead>\n",
       "  <tbody>\n",
       "    <tr>\n",
       "      <th>0</th>\n",
       "      <td>64</td>\n",
       "      <td>360</td>\n",
       "    </tr>\n",
       "    <tr>\n",
       "      <th>1</th>\n",
       "      <td>197</td>\n",
       "      <td>93</td>\n",
       "    </tr>\n",
       "  </tbody>\n",
       "</table>\n",
       "</div>"
      ],
      "text/plain": [
       "Sex         0    1\n",
       "Survived          \n",
       "0          64  360\n",
       "1         197   93"
      ]
     },
     "metadata": {},
     "output_type": "display_data"
    },
    {
     "name": "stdout",
     "output_type": "stream",
     "text": [
      "P-value : [0.0] for Sex vs Survived\n"
     ]
    }
   ],
   "source": [
    "chi_test(df_feature2, 'Sex')"
   ]
  },
  {
   "cell_type": "markdown",
   "metadata": {},
   "source": [
    "###### Test result\n",
    "- Accordinig to the following Chi-square of independent test, the p-value is less than 0.05. \n",
    "- We could reject the null hypothesis."
   ]
  },
  {
   "cell_type": "markdown",
   "metadata": {},
   "source": [
    "##### [-] 4-3-2 : Discussion and Visualization of survival rate.\n",
    "- Here we also add mosaic plot for another angle for visualization.\n",
    "- The function is defined at the beginning of section 4."
   ]
  },
  {
   "cell_type": "code",
   "execution_count": 16,
   "metadata": {
    "collapsed": false
   },
   "outputs": [
    {
     "data": {
      "image/png": "[encoded data removed]",
      "text/plain": [
       "<matplotlib.figure.Figure at 0xca4c128>"
      ]
     },
     "metadata": {},
     "output_type": "display_data"
    },
    {
     "data": {
      "image/png": "[encoded data removed]",
      "text/plain": [
       "<matplotlib.figure.Figure at 0xcca57b8>"
      ]
     },
     "metadata": {},
     "output_type": "display_data"
    }
   ],
   "source": [
    "visualize_survival_rate(df_feature2, 'Sex')\n",
    "\n",
    "visualize_mosaic(df_dropna,'Sex')"
   ]
  },
  {
   "cell_type": "markdown",
   "metadata": {},
   "source": [
    "##### Visulization result\n",
    "Base on the graph, it could be seen that the Sex-0(Female) is more likely to survive."
   ]
  },
  {
   "cell_type": "markdown",
   "metadata": {},
   "source": [
    "### 5. Conclusion\n",
    "\n",
    "\n",
    "#### 5-1 : Dataset limitations\n",
    "\n",
    "There are several limitation of the Titanic dataset we used in this report. \n",
    "It might lead a biased or skewed result. \n",
    "\n",
    "##### [-] Main limitation 1: Missing data\n",
    "\n",
    "For example, there are different propotion of missing age in Female group and Male group. When we drop the missing value, we basically drop the different propotoin of Female and Male data. It the defference of the propotion is large, we would bias or skew the results on Male and Female. This condition is the same as it in other variable like Pclass.\n",
    "\n",
    "##### [-] Main limitation 2: The size of sample data and how we collect the data\n",
    "\n",
    "The size of the sample data could also impact the results as we don't know if this is a random sample or if the selection of the data is biased or unbiased.\n",
    "\n",
    "Recall the chi-squre limitation in Section 4 : The chi-square test is sensitive to sample size. The size of the calculated chi-square is directly proportional to the size of the sample, independent of the strength of the relationship between the variables. The sensitivity of chi-square to sample size may make a weak relationship statistically significant if the sample is large enough. \n",
    "\n",
    "#### 5-2 : Future : Improve the analysis\n",
    "\n",
    "##### [-] More hidden correlation mining. \n",
    "- In this report, we are only explore the correlation of Age vs Survived, Pclss vs Survived and Sex vs Survived. It would be also helpful for we to discover the correlation such as Age vs Pclass, Age vs Ticket, Age vs Sex ... etc\n",
    "\n",
    "##### [-] Collect more data\n",
    "- In this report, we basically use 714 rows of data. If we could have more data, it helps us to more likely to discover more correlation.\n",
    "\n",
    "##### [-] Expand the demensionality (collect more variables) \n",
    "- It might be helpful to have the feature such as weight, height ...etc. \n",
    "\n",
    "#### 5-3 : Summary \n",
    "In this report, we found that each of Age, Sex, and Pclass are dependent to survive rate. However it is not telling any causility. We shold also consider the effect of the limitation from the data. Finally, we also proposed potential ways to further improve the analsis.\n"
   ]
  },
  {
   "cell_type": "markdown",
   "metadata": {},
   "source": [
    "### 6. Reference\n",
    "\n",
    "- https://www.kaggle.com/omarelgabry/titanic/a-journey-through-titanic\n",
    "- https://www.kaggle.com/mrisdal/titanic/exploring-survival-on-the-titanic\n",
    "- https://www.kaggle.io/svf/198371/166ea2e9c1074ca9cd2447c7ee27cf10/__results__.html#load-and-check-data\n",
    "- http://stanford.edu/~mwaskom/software/seaborn/tutorial/distributions.html#visualizing-pairwise-relationships-in-a-dataset\n",
    "- https://en.wikipedia.org/wiki/Correlation_does_not_imply_causation#Causality_construed_from_counterfactual_states\n",
    "- http://www.simafore.com/blog/bid/56480/2-key-assumptions-to-be-aware-of-before-applying-the-chi-square-test\n",
    "- https://learn.bu.edu/bbcswebdav/pid-826908-dt-content-rid-2073693_1/courses/13sprgmetcj702_ol/week05/metcj702_W05S02T05_limitations.html"
   ]
  }
 ],
 "metadata": {
  "kernelspec": {
   "display_name": "Python [Root]",
   "language": "python",
   "name": "Python [Root]"
  },
  "language_info": {
   "codemirror_mode": {
    "name": "ipython",
    "version": 2
   },
   "file_extension": ".py",
   "mimetype": "text/x-python",
   "name": "python",
   "nbconvert_exporter": "python",
   "pygments_lexer": "ipython2",
   "version": "2.7.11"
  }
 },
 "nbformat": 4,
 "nbformat_minor": 0
}
