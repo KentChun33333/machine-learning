{
 "cells": [
  {
   "cell_type": "code",
   "execution_count": 22,
   "metadata": {
    "collapsed": false
   },
   "outputs": [],
   "source": [
    "import pyscreenshot as ImageGrab\n",
    "from skimage.io import imread, imshow\n",
    "import numpy as np\n",
    "%matplotlib inline\n",
    "import matplotlib.pyplot as plt\n",
    "import cv2\n",
    "#import pyautogui"
   ]
  },
  {
   "cell_type": "code",
   "execution_count": 1,
   "metadata": {
    "collapsed": false
   },
   "outputs": [
    {
     "ename": "SyntaxError",
     "evalue": "invalid syntax (<ipython-input-1-a1fe84290ee7>, line 38)",
     "output_type": "error",
     "traceback": [
      "\u001b[0;36m  File \u001b[0;32m\"<ipython-input-1-a1fe84290ee7>\"\u001b[0;36m, line \u001b[0;32m38\u001b[0m\n\u001b[0;31m    ----------------------\u001b[0m\n\u001b[0m                          ^\u001b[0m\n\u001b[0;31mSyntaxError\u001b[0m\u001b[0;31m:\u001b[0m invalid syntax\n"
     ]
    }
   ],
   "source": [
    "import pyscreenshot as ImageGrab\n",
    "from skimage.io import imread, imshow\n",
    "import numpy as np\n",
    "\n",
    "# fullscreen\n",
    "#im=ImageGrab.grab()\n",
    "#type(im)\n",
    "#-#\n",
    "fileName='test.jpg'\n",
    "def screenshot_and_show(fileName=None):\n",
    "    im=ImageGrab.grab()\n",
    "    img = np.array(im.getdata(),dtype='uint8').reshape((im.size[1],im.size[0],3))\n",
    "    if fileName is not None:\n",
    "        assert type(fileName)==str\n",
    "        assert fileName.split('.')[-1]=='jpg'\n",
    "        im.save(fileName, \"JPEG\")\n",
    "    else:\n",
    "        imshow( img )\n",
    "\n",
    "screenshot_and_show(fileName)  \n",
    "\n",
    "import Tkinter\n",
    "from PIL import Image, ImageTk, ImageDraw\n",
    "\n",
    "image_file = fileName\n",
    "\n",
    "w = Tkinter.Tk()\n",
    "\n",
    "img = Image.open(image_file)\n",
    "width, height = img.size\n",
    "ca = Tkinter.Canvas(w, width=width, height=height)\n",
    "ca.pack()\n",
    "photoimg = ImageTk.PhotoImage(\"RGB\", img.size)\n",
    "photoimg.paste(img)\n",
    "ca.create_image(width//2,height//2, image=photoimg)\n",
    "Tkinter.mainloop()\n",
    "\n",
    "----------------------\n",
    "image_file = fileName\n",
    "screenshot_and_show(fileName)  \n",
    "\n",
    "w = Tkinter.Tk()\n",
    "\n",
    "img = imread(image_file)\n",
    "width, height,_ = img.shape\n",
    "ca = Tkinter.Canvas(w, width=width, height=height)\n",
    "ca.pack()\n",
    "\n",
    "ca.create_image(width//2,height//2, image=img)\n",
    "Tkinter.mainloop()"
   ]
  },
  {
   "cell_type": "code",
   "execution_count": 2,
   "metadata": {
    "collapsed": false
   },
   "outputs": [],
   "source": [
    "imshow( np.array(im.getdata(),dtype='uint8').reshape((im.size[1],im.size[0],3)))\n",
    "img = np.array(im.getdata(),dtype='uint8').reshape((im.size[1],im.size[0],3))"
   ]
  },
  {
   "cell_type": "code",
   "execution_count": 3,
   "metadata": {
    "collapsed": true
   },
   "outputs": [],
   "source": [
    "import cv2\n",
    "cv2.imshow( '',np.array(im.getdata(),dtype='uint8').reshape((im.size[1],im.size[0],3)) )"
   ]
  },
  {
   "cell_type": "code",
   "execution_count": 4,
   "metadata": {
    "collapsed": true
   },
   "outputs": [],
   "source": [
    "cv2.destroyAllWindows()"
   ]
  },
  {
   "cell_type": "code",
   "execution_count": 34,
   "metadata": {
    "collapsed": true
   },
   "outputs": [],
   "source": [
    "def template_match(refImg, newImg):\n",
    "    res = cv2.matchTemplate(newImg, refImg, cv2.TM_CCOEFF)\n",
    "    min_val, max_val, min_loc, max_loc = cv2.minMaxLoc(res)\n",
    "    print min_val, max_val, min_loc, max_loc\n",
    "    top_left = max_loc\n",
    "    h , w, _ = refImg.shape\n",
    "    bottom_right = (top_left[0]+w,top_left[1]+h)\n",
    "    print (top_left, bottom_right)\n",
    "    cv2.rectangle(newImg, top_left, bottom_right, 255, 2)\n",
    "    #show(newImg)\n",
    "    #NewTemplate =newImg[top_left[1]:top_left[1]+h, top_left[0]:top_left[0]+w]\n",
    "    return newImg, (top_left[0],top_left[1], bottom_right[0],bottom_right[1])\n",
    "\n",
    "def template_match_center_point(refImg, newImg):\n",
    "    '''\n",
    "    res = cv2.matchTemplate(img_gray,template,cv2.TM_CCOEFF_NORMED)\n",
    "    threshold = 0.8\n",
    "    loc = np.where( res >= threshold)\n",
    "    '''\n",
    "    res = cv2.matchTemplate(newImg, refImg, cv2.TM_CCOEFF_NORMED)\n",
    "    threshold = 0.8\n",
    "    print res\n",
    "    min_val, max_val, min_loc, max_loc = cv2.minMaxLoc(res)\n",
    "    print min_val, max_val, min_loc, max_loc\n",
    "    top_left = max_loc\n",
    "    h , w, _ = refImg.shape\n",
    "    bottom_right = (top_left[0]+w,top_left[1]+h)\n",
    "    print (top_left, bottom_right)\n",
    "    cv2.rectangle(newImg, top_left, bottom_right, 255, 2)\n",
    "    #show(newImg)\n",
    "    #NewTemplate =newImg[top_left[1]:top_left[1]+h, top_left[0]:top_left[0]+w]\n",
    "    cx = int(top_left[0]+0.5*w)\n",
    "    cy = int(top_left[1]+0.5*h)\n",
    "    return cx, cy\n",
    "\n",
    "def doubleClick(refIMG):\n",
    "    im=ImageGrab.grab()\n",
    "    img = np.array(im.getdata(),dtype='uint8').reshape((im.size[1],im.size[0],4))\n",
    "    cx, cy  = template_match_center_point(img, refIMG)\n",
    "    pyautogui.moveTo(cx, cy)\n",
    "    pyautogui.doubleClick()\n",
    "    "
   ]
  },
  {
   "cell_type": "code",
   "execution_count": 8,
   "metadata": {
    "collapsed": false
   },
   "outputs": [],
   "source": [
    "screenWidth, screenHeight = pyautogui.size()\n",
    "currentMouseX, currentMouseY = pyautogui.position()\n",
    "pyautogui.moveTo(100, 150)\n",
    "pyautogui.click()\n",
    "pyautogui.moveRel(None, 10)  # move mouse 10 pixels down\n",
    "pyautogui.doubleClick()\n",
    "pyautogui.typewrite('Hello world!', interval=0.25)  # type with quarter-second pause in between each key\n",
    "pyautogui.press('esc')\n",
    "pyautogui.keyDown('shift')\n",
    "pyautogui.typewrite(['left', 'left', 'left', 'left', 'left', 'left'])\n",
    "pyautogui.keyUp('shift')\n",
    "pyautogui.hotkey('ctrl', 'c')"
   ]
  },
  {
   "cell_type": "raw",
   "metadata": {},
   "source": [
    "# import the necessary packages\n",
    "import numpy as np\n",
    "import argparse\n",
    "import imutils\n",
    "import glob\n",
    "import cv2\n",
    " \n",
    "# construct the argument parser and parse the arguments\n",
    "ap = argparse.ArgumentParser()\n",
    "ap.add_argument(\"-t\", \"--template\", required=True, help=\"Path to template image\")\n",
    "ap.add_argument(\"-i\", \"--images\", required=True,\n",
    "\thelp=\"Path to images where template will be matched\")\n",
    "ap.add_argument(\"-v\", \"--visualize\",\n",
    "\thelp=\"Flag indicating whether or not to visualize each iteration\")\n",
    "args = vars(ap.parse_args())\n",
    " \n",
    "# load the image image, convert it to grayscale, and detect edges\n",
    "template = cv2.imread(args[\"template\"])\n",
    "template = cv2.cvtColor(template, cv2.COLOR_BGR2GRAY)\n",
    "template = cv2.Canny(template, 50, 200)\n",
    "(tH, tW) = template.shape[:2]\n",
    "cv2.imshow(\"Template\", template)\n",
    "# loop over the images to find the template in\n",
    "for imagePath in glob.glob(args[\"images\"] + \"/*.jpg\"):\n",
    "\t# load the image, convert it to grayscale, and initialize the\n",
    "\t# bookkeeping variable to keep track of the matched region\n",
    "\timage = cv2.imread(imagePath)\n",
    "\tgray = cv2.cvtColor(image, cv2.COLOR_BGR2GRAY)\n",
    "\tfound = None\n",
    " \n",
    "\t# loop over the scales of the image\n",
    "\tfor scale in np.linspace(0.2, 1.0, 20)[::-1]:\n",
    "\t\t# resize the image according to the scale, and keep track\n",
    "\t\t# of the ratio of the resizing\n",
    "\t\tresized = imutils.resize(gray, width = int(gray.shape[1] * scale))\n",
    "\t\tr = gray.shape[1] / float(resized.shape[1])\n",
    " \n",
    "\t\t# if the resized image is smaller than the template, then break\n",
    "\t\t# from the loop\n",
    "\t\tif resized.shape[0] < tH or resized.shape[1] < tW:\n",
    "\t\t\tbreak\n",
    "\t\t# detect edges in the resized, grayscale image and apply template\n",
    "\t\t# matching to find the template in the image\n",
    "\t\tedged = cv2.Canny(resized, 50, 200)\n",
    "\t\tresult = cv2.matchTemplate(edged, template, cv2.TM_CCOEFF)\n",
    "\t\t(_, maxVal, _, maxLoc) = cv2.minMaxLoc(result)\n",
    " \n",
    "\t\t# check to see if the iteration should be visualized\n",
    "\t\tif args.get(\"visualize\", False):\n",
    "\t\t\t# draw a bounding box around the detected region\n",
    "\t\t\tclone = np.dstack([edged, edged, edged])\n",
    "\t\t\tcv2.rectangle(clone, (maxLoc[0], maxLoc[1]),\n",
    "\t\t\t\t(maxLoc[0] + tW, maxLoc[1] + tH), (0, 0, 255), 2)\n",
    "\t\t\tcv2.imshow(\"Visualize\", clone)\n",
    "\t\t\tcv2.waitKey(0)\n",
    " \n",
    "\t\t# if we have found a new maximum correlation value, then ipdate\n",
    "\t\t# the bookkeeping variable\n",
    "\t\tif found is None or maxVal > found[0]:\n",
    "\t\t\tfound = (maxVal, maxLoc, r)\n",
    " \n",
    "\t# unpack the bookkeeping varaible and compute the (x, y) coordinates\n",
    "\t# of the bounding box based on the resized ratio\n",
    "\t(_, maxLoc, r) = found\n",
    "\t(startX, startY) = (int(maxLoc[0] * r), int(maxLoc[1] * r))\n",
    "\t(endX, endY) = (int((maxLoc[0] + tW) * r), int((maxLoc[1] + tH) * r))\n",
    " \n",
    "\t# draw a bounding box around the detected result and display the image\n",
    "\tcv2.rectangle(image, (startX, startY), (endX, endY), (0, 0, 255), 2)\n",
    "\tcv2.imshow(\"Image\", image)\n",
    "\tcv2.waitKey(0)"
   ]
  },
  {
   "cell_type": "code",
   "execution_count": 24,
   "metadata": {
    "collapsed": true
   },
   "outputs": [],
   "source": [
    "def screenshot_and_show(fileName=None):\n",
    "    im=ImageGrab.grab()\n",
    "   \n",
    "    channel = 4 # if mac\n",
    "    channel = 3 # if windows\n",
    "    img = np.array(im.getdata(),dtype='uint8').reshape((im.size[1],im.size[0],4))\n",
    "    if fileName is not None:\n",
    "        assert type(fileName)==str\n",
    "        assert fileName.split('.')[-1]=='jpg'\n",
    "        im.save(fileName, \"JPEG\")\n",
    "    else:\n",
    "        plt.imshow( img )\n",
    "    return img"
   ]
  },
  {
   "cell_type": "code",
   "execution_count": 25,
   "metadata": {
    "collapsed": false
   },
   "outputs": [
    {
     "data": {
      "image/png": "iVBORw0KGgoAAAANSUhEUgAAAX8AAADyCAYAAAClHcXVAAAABHNCSVQICAgIfAhkiAAAAAlwSFlz\nAAALEgAACxIB0t1+/AAAIABJREFUeJzsnXd4VEXXwH+zqRtICITee6RpKAIKAVQQFRFQBOwKqLzW\n14bg6ydGUBEVsYOoqAjSFESKFGlBCEroLZRQEkgCCaQnm+ze+f64uze7yaaQAgHm9zz77N25Z87M\nLXvu3JkzZ4SUEoVCoVBcW5gudwUUCoVCcelRxl+hUCiuQZTxVygUimsQZfwVCoXiGkQZf4VCobgG\nUcZfoVAorkEuufEXQtwhhDgkhDgshHj9UpevUCgUChCX0s9fCGECDgO3AWeAf4ERUspDl6wSCoVC\nobjkLf+uwBEp5UkpZS4wDxh0ieugUCgU1zyX2vg3AGKcfsfa0xQKhUJxCVEDvgqFQnEN4nmJyzsN\nNHb63dCe5oIQQgUcUigUilIgpRQlkbvUxv9foKUQogkQB4wAHnAnmBMf7fI7NjaWESNGALB27Vp8\nfX0K5OnduzcbN27i6NFjPPHE4wBMf+dhxrz1s9vKhIeHExoaytwlK2kcVBUJIMBx5rIys5DCi0yg\nptmLb777ntEjn8AknM6tFFgyT2OjOr6+vgx/6Gni4w9Rv9N9XDi4jtUr/iD/lQgNDWXAze1ZvmUf\nNauYSUzPxsPbjC0ni9D6frw3fxVhH33ChFdfNvKMnraSz57qjZ+fHzZbJl9Om0aqRfDgo0/z7Q/f\n02/Ig0x+fgQENKRD1Vw+/nkR5HuEDv7PBD57+X4at2rPp1/P4IknR/H0k89Ts8l1pPs2wha9hRMH\ntwHgAUghqGY2USXLxpNf/Uit5Cjadr+Nmd98zdPPvGA//jz9Z/b/Tf12PQgNfYgadavS8e5h/DVz\nAiZPbzRrDnWqCKa+M5pVqyNZ8/dOFqzYBE4OBxLoExqKjSqEh/8JEt6e+hGNAmsyauTjfPHNtyxc\nmYCW+CcmT2+a9X6AY3/9iAA2hYfjUiEJEYdiuL5JTfzMZmZ+9z1PjhoJwKdff8PDI58gyMcLl8Ld\nIQvZbaRLQBQ4Ducf7lRLsOcRRg7ptO0s9+5n0/jfC/91o6NE//GS4eY4/YObAZB6KBphv+cl8NXn\nq8HjPA89dCcfn3yGsOvnOOUSJCQkUKdOHbfnTAI9e/YEYPPmzW4qopezcNFCht5/P2PHjmXKlClM\n/vwTxj3/Ekho2/Z+vDzMvJS7EYC4Gzry+vzfDQ0HE9J58cVXCcg8xcKlK7Bmp3DLnS+yaf2PLiX1\n7NnTqMNLL73EJ5984lKNVXv20P/66+kVGkqTmgGkJ6cyrE1VzjfrynOvhQFw1913smLZSqISswiu\naSY0NJS1GzfRt3cfwsM3EhoaSnh4OOetkntv6c1fa+Yx5t25zJj4msvxPvvcc3zxxRcu58H5/El7\n2keff8Srz7/qlOZ63hoE13VzTt1zSbt9pJQ24DlgNbAfmCelPFiSvA0bNjS277ijv1uZUZ1qkWu1\nGYb/1cf1seTw8HAatemIp/2/8sFr9xEeHk7m+eOEh4cjc7Ld6jP7+eFn1g2EzZrJU6NGci7Vvayf\nnx8mk4mFv8wEq54WWKe+ftz5ZFcvn0V8jc4AJGbU5q/Vy5jxzsOsWr8B2XGMW/3eXj74+fnp+qwa\nz788jjdef5XmDYN4/83XmDBmBMvWbuSHKa/S5em33OrwMHnSuFV7cjWNF//zNPc9Pp1fZn3Nrr8W\nkZySQrd+g7h55GQAnnqwD5qUjBnSFyTc0r450ccOISHP8APu7E94+Bx+XzidgW2r8cUvf9C1qn5C\n5i9bBcBPf+5g/vINbuu4fPHXLFq1lDuGPm6kjRr5OLmaxnNPjQYwdAbE/MWq32czf/Uat7p8vX3x\nM5sBeHLUSCw2DYAX//MU9w9611W4GDvqfrfM91143sLVSye5gnqKqlbRekuHs76kvVH8s2QF69ev\nd5H5c80metzUmrj44+TOHUJmZqbL/vvuu4+4+HjDyDu+8+svCochPHLkiH6K7B8JPKb9w1O5G8kA\npnr2Ihk/l7xbI/bQ5cYhfD9/MfvOZrB7zWxeu82L0ePec5Hr0KGDsT106NACddBEdSa+8woAJxOz\n+W2tfv86DH9q9EpWLFsJQHBN/T7DoxWDBj5EePhGF13VPQXrw8Pp3e/xfKVI43inTJlCr1693J4P\nTdPQNA0ppbHtTs/FcEldPUuKEELmJESjX+2826Vnz57ccsstjB8/3jCE5Vdo/s0S3qaFvmGJIn7l\n2+PmEuRv+ZdUty0nAw/vKva6FVposTh0ulchi/zpkmj/Cg29l/Dw3wrKFtZitieEffIJE156qfgK\nF1LuRXExrX+ZlyIL7HT6Kd2kGXkKtvLdMamQln/++6Bc/smFvAGkRR13SbdYLDTrcjM2mUZWbi4p\n9v2OOvVwMvhGC79El0YYXz3trWYkRstfOssAmZnZPDX6fWbPDct/CAV0OtL3799PlSpVaNKkCQcO\nHACgXbt2bqtSXg/X/PXO32p3/r1p0yZ69ep9kS1/fX+D4Lol7vap5MbfgeOuKe92Dm6urri4C15q\n4+/cdVQw94YtEfS5+aYiCi7BI6rCLu3FG/9CZYsy/sCGLVvpc1NR56GE5V5E1hKpzG/88wmUpOtH\nTy/+AbBxWwS9unV3s6fo95FSU1h9C9HtzghdzC2RP6/jy9k0bd62lZ7dbnJ5T7qY+hRfbqHVKBcu\nxvjr+90/2Lds28rN3W52o0OnQXC9K9/4H4kqzbyvwo5FuNlSVCqKvQ2LEsh/VUtxT1e+v4EL+asn\nith3cbg7d6X5l+R/jBWmv8TqcD2y8vvnylKoKzgaU96UvEJF1eO6NsGVdsC3Aqnk/15FBVPK63/N\n3zalNfYVTSEXpuKtsFuuxtvkKjD+Jb8sKWnpeHqWzyFrmkZAlbxxh/Qs9wPBpSEmJoY2rVsBkJWd\nja0c77zoo0e43j7QFRm5g+C2bctNt4+nB15e+gD5sRMnqVOnTrnolVLib/Y1fqdnW8pFL0BmZia1\nq1cH9GuamZtbbrqPHD5MR/u5PhMfR0D1GuWmOzs9nZpBQQDsPXCA5i1alJvuKj5557pOg/rlplfT\nNM7GxRu/My3l9585c/oMLZs1ByDbYkErR2/xQwcO0LFjJwB279pF6zbXlZtuD2HC29u7RLLl/QC6\nIiZ5Wd+ckC9Fop1YjBYfXkD2jQNvFqqnvAw/gMmUd+qSklPKTS9Ao0aNjO3yNPwAzVu2MrbL0/AD\nWKw2Y7u8DD+AEIKkpPMAxJw+U256ARfHgfI0/ACtWrc2tsvT8AP4Vq1qbJen4QeIjIwE4OCh8g25\n5fyfOZ98oVx113d6SJWn4Qe4zul/Up6GH8Am83vtFMTh7OSOjRs3lLrsStznr3uANvvvS6BJEHD8\n02n6/sMzacYfIOCY/+uIuj0AuOf8w0ibRGJlWa35zhpJy8g0br7+/foB0Co4OJ9v7cUhpcTfz+zS\n6hfChCzBBS2OswnxNG7YkOxcq1FWe+urnPJ4jDTT9WXSnXI+iZycXGrV1X2Cb99ZG4CGZsn3150r\nk+6qZl9Ox8VTLTAQIQT9dtQCoHsNyTtNyqjb18do9a9L9WfyMd29blWnc4gy3MdSSvx9fUm36Lrf\nPFmTf87r98rqTucKeOVcDMcOR9GkcRM8fX2pXbs2devm+WFnZGRw7NixUuvWLDkcOXqU4Ha6cfKP\nXk/tiK859uCCUut0UMXH16XVLybdCFWqI19aXSa9UkoSzsS5tPpbzB1GRoMuxPceWybdSYmJNKhb\nn2xrDgCmpEREZibS2xutTsn9392RmHAWgJp19P/K2eRMagf68ff+0/RoV7YINT5e3phMHkSfiC5U\nplnT5gXSjhw5wsGDB7jnnrzwaBfT51/5W/5uDsNk1VuBSJDZbgyKqWAmZ8O/as0aVq1Zw7lzeXm/\n+uskoOsNCelKdsxGRxH2snSDrmkaiYmJetWE4FRsgQnKHPSo5/L72UmfkhS9npCQEI7tWEFIyIu8\n9NZbrNhzlvScPL3O1K5T1zD8AKPjFnDDilo0trlOVInPsBISEoIEQkJCCAkJgazDvPvMM2zYuAmA\nHTt2YLPltcqr1QgyDP/iFN04R9xXi9HtAtiQWd1+vDZemL0XgJP/LMNir15Ixy4u5b/33nvs2LHD\n+J2WmUW1wEAAhuypCcDfQ2pxb3CgIRO3e5mx/ViIqz5nMjMzWb58ufF77759xvbkY2a+6R3IiYfr\n8tCBvLeMJZs3GNsjH7gTgPDly7AKwaJFS130Z2frBkgIQWJyspH+z3kTcY/V5cdbq/PskVpG+sSQ\nEGM7JORZAKauPsETTzzB7v36PZGamopzg6pF62A8ffVulDp16mC1Wjl9Wr9nqlTRXXKfHz2MkJC+\nAJzbsxRbVhIAyWeieOXVV9lzTH/bmTlzpnHvAZh8vA3Dj5SkNb+lgOEPefUbFqxZx6y/Duj3BhAS\n0hkf01m+/PJLMlP04z5x4gQfffSRkS/S6Zpiy0W++a9u+BOOGMk39P4/Y1uz5dJu5AcEVAsw0qSm\n3782m804ZiEEp2JOudTx2IMLiO89Fp9zh13Sc5N3ADmMsN/X37/+LLtis/jjjz9wR1DNmnmGf9dO\nfP4zBt/338Pn+ecwD9P9+JP3zwPgpi4h9LulJ7/99pteVr63voMHD7r8Z2rWqW0YfoCnpq3hbHIm\nHy7cbqSFDnqQrJQTDH70BUJ79+bFD39iaEgIZzN13bt27QRg8uTJhospgCVXr3O9evUK/bijcePG\n9O3b1+2+klDpjf/xTz7hdK5G9P/eMNJsbV/npLUHx7kbU9PBRvqnvhOpkWhmWdA8Fx3x9qd2fqr5\n+7v8jlozm54hIfy+JC+/8Rixz3CMiYmhZs2axv5Ae3+xgzcvtKGNLa5AWSaTB53bNeG+kVPw8AjH\nq1Yrfvr0PeM5ZTKZsFhc+7IdN0hcbioAcweNY1l4It7H/uMiF7F1K5lWjTUrlrL+95ng4YGvlLSr\nqd+87du3Z5+T4QRIS0vT817QKxDoZWLDGQtDrtOP7a4BA9n08SMA/Oftr+jWVTfS9evVZufpDENP\naGgoy5blGXPhNPvZYtO3A7wFY7fmdY2NGv8Vfe8dAMC5+rVZHJWnz+W4IiLo06eP8btpi5Yu+7Nt\nYPYU7B6m/ylzUhP45j3dB3pcx47sOKhfh9ABdwMwdOg9eXWzWPD1zevbTk4p2HVXxVOwbrD+kPz8\n7TH8ak/vftddwN8A/DT2AWbNmsUN7fTzFhAQwIULrl0aDsMH+iz0J598kraFdLkd2LYDD7Pelz/w\nruEMb57XKLj//vtZu3ati3yxb+5JZuYvj2Tme2NZvU5vDOzapXfrPPvsfwwDsGjRIu65J+/83DXw\n7jwdHk4zoWs2NTYXffsobV/9HgCThxf7v3+d1JRUYpKz7BL69T98+DD16+e9RXS+8Ua3Vc2p3sTl\nt/DwBC0Df2DK4DqcaNyf37+bSodutxoy+f8zjvvclmslzWJDtu1AmsVGmsXmIrdl6yYCQl8GdBuw\ndetW4z8B0KpVKw7l6/ZKTU11+Z2S4Vp22oVMevYezBfPdUF4+XJq+VS6vvIhk349BGiEhHQE4NZb\nb+XXX3/FFYmX83nOR3JKwW6yBQsX8OtvvzH3l7mF5iuKSt/tUx5kZOVdpOzsbJKSkmjQoAF33XEH\nK/78s9zKAb3b55nE9nwZtKdc9T6xcD/V/fTXu6kDjparbke3D8Dqju4flBdDeno6VatWRZhM9IvM\ne1CWh24pJUIIPk+ozR/27v9VnRIR5dDV5sDlfJSx28eZDh06uDwcAfbsKb/7pMlvT+KZnUJc6Gtk\nNnJvYEuCzWajVatWLmlikv7wl29ud5fFhdyESNbtSqR/f/cz8QGio+1dHFLS4pfhAOXSXeVMRtgk\nZEoq+PpSZdxriAD/4jOVkMFv54WTWPJ22aPSZ2VlUSOwBlmWrEJlfH3Mxeq5mG6fq97479y1m9bB\n5TtIk5/Tp0/ToEHFRKY+c+aMS6vpWsdh/CuCffv20b59+wrRnZaWhr9/+RmfiqRZs2YVdo4dHDt2\nrMLKiImJcXGaKE80TXMZuC5PzHYvq4RCeipq250oCvMOstlstGrd8low/kUHIHDIZJSjC+bVRkUa\nUvXQunRkZGQY4wdlRdM0WrZsWbxgOWC0/hUAnDt3jsYN8x5apQncd1W0/PP3rykUCoWiaAICAq7F\nGb4lJyEh4ZK1bhQKxbWF88BxZeaaNP7K8CsUisvNkiVLCszzeOWVV1x+O3pmKqJ7ttK7egJYrdYi\n9zu70jnz+eefAzBmjPsY+VOnTjW2HSd5/JgBRZSUwd7Fk4qsC0BYWBhhU+fq32FhLPnxE8LCwojf\ns5J3J00E4J0ps93mc3A4fHmB/Q6m/bYrX0pxXXdFnz+AqR+9X6xMUTjXHWDW3Igy6SseV++enMR9\nhcjZCkkvSFhYGO/Zr09RnHHy8Hvvw88Klfv+g7BC9ymuPB577DF27drFww8/7JIupXRxd87Pzp07\nGTp0KJMnTy5UZsKE/FEMdL0rVqzg+PHjhbr0ul8Qp2RUeuN/6tQpzpw5w6lTpwrsi4uL49SpU9hs\nNrf7n3/+eQCmT5/uVrfz0/Tuu+92SvfFkhLL4011f+ukPQUvbMqRFQCcy3SdHJKZpU/YaNrSsfiM\nD03q6oM41Ru1w2pfUOStsY+QrcHEz1dyLCnTMJ7vhYXhbKzTc3X5TxftIj7NQlhYGB6enlhskj/3\nnmbx8n8JC5vIO2FhbF+1EKQVbLq3QE5WXhwVAL2mur4ce9q3y7ca+8OmTOf4v3/w6Yfvcmr/Ft55\nJ894xZ7P88Xfe1yfaBQWFsbHk8KwZqUwYULehJ8f1/yD8PYkLGwqB7bkPcTCwsI4t2MhAFFb9G+H\nad59NAEAq6bf5KsOu/rd/7VDd29NPbrBSHv/3XfIT1xyflc5CeQtNpKSz9976vRZHDyTzHthYXRu\n2xgPX3/ORP2r79TyJn45wmyEvfM5e/fFGtfLpmm89/VvhC+fTVhYGItmfU5YWBgZJxz1rHxjaorS\n0bt3b6ZNm8aNTvMUrFYrQgjuvvtudu7c6Tbfxx9/TL169cjKcu/GKYRg9+7dBdLXrFlDoH3CZGEz\nwX/55ZeLPQyDSm/8GzdujLe3N40bNy6wr169eka6u/0TJ+qtuMJa/vv37ze2HTP9dCx8+/5LhD7Y\nl+h9W5jx4ddsW7vA5W9crVUoiYnnCPT15Jx91uXefQfZERVP9eCbObFzPZ5+1fAyWVgasZ++3Vry\n7Xc/8+j9d/HTe7rR8jWBlpXFhtWbcHgvtQ4yE3tc94JIS0vB7GXibNIFbu3djo2b/gWTFzarlcmT\nPkDLSGbP9hVMmKCv3FXFywuEIGrtUmKi9+PpVYO0tMLjDkXHJFAzMC9GDFkJHDx4hORMK3/84bo6\nlqblHb1ms7HzsF7HF96cwLsffgGYWLRmJ2cv6AP1qYlRQBqb/3G9qatU12eA1mvZkZQLiXgAqenp\nACSeT+ZEag5xZ89Tv0aeT/PZ8yk0rqv73gc070Bqij4Te/z/XFcsS0lLI6CKT4G3EJfjkJCaksz5\nlEyiTugNhl9/W0kuEBkVx/Ah/ajdoBHp6anE7owgLuYYmibxELDr6EmqtWxPh/YNEcCXX84EIPfs\nXiJ3RDNhwgQa33Qv4EmVevqEpcT42ELroriyGDlyJB06dKBr165GmqenJzNmzGDUqFF07NjRbb6f\nf/6ZTp06MWrUKLf7pZQsWbKkQLrVaiUgIACr1Vrog6Owlb9KQqm9fYQQDYGfgDrozcmZUsrPhBDV\ngflAE+AEMExKmWLPMx4Yid60fVFK6TZQSEV7+1wp/taVmbCwd3j9f2/i61l8+8Exdd4R8bMkSCn1\n7j4h8CoiIJ81NxcJeHp6OSZhM++PLQwf0A2rTcPk4YFHIX7Z70ycyP/e/D88ytid+vexOHq0qEdY\nWJjb13fFtUVJB3yL6/N3ts0l7fO/GG+fshj/ukBdKeUuIURVIBIYBDwBJEkppwghXgeqSynHCSHa\nAnOAG4GGwFqglXRTgYo2/keOHKFTp04Vpl+hUFy7XE5vn0vi6imljAfi7dvpQoiD6EZ9ENDbLvYj\nsAEYB9yDvmC7FTghhDgCdAW2lbYOpaVVq1ZXjDuWQqFQVATl4uophGgKhAARQB0pZQLoDwghhCNQ\nSgNgq1O20/Y0t9isJffSUCgUCsXFUWbjb+/yWYTeh58uRIGVFErVrxRYPbB4IYVCoVCUijIZfyGE\nJ7rhny2ldIS5SxBC1JFSJtjHBRxRik4DztGWGtrT3PL2228b23369HEJ7XsxLF7yO0MGlz3qXlFI\nKenf/y5Wr15ZoeUoFIqri8dmbCEuMZXcnGya1DDzw4uFR0J1x4YNG9iwYUOpyi5TbB8hxE9AopTy\nZae0D4DzUsoPChnw7Ybe3bOGIgZ8S1OvJ598ms+65WI78jcS8Gh0PeZnF5Rpdlx2drZL3Hd3SCm5\n/fY7WLNmlUta/pjxzvsqOmqiQqGo/PwUfoRZaw+Qa8kmN8fCtqmPlkmfEKLiV/ISQvQAHgJuFULs\nFELsEELcAXwA9BNCRAG3AZMBpJQHgAXAAWAF8EypLHwRfFJzM74PTqXqB1H4fxCF+ckfyfpfOxeZ\nqKjDPPbYYwD06BHqss/xe8WKlXz11dc8+ujjvPrqWCP9scce58cffyog//LLr5CVlc3LL+vPwLff\nfodhw0Zw6FCUSxk9eoTSo0eoywpB7khISCjN4V8yHCug5b98jpWx3JFu9+UvjvwrKpUGKSXffvtt\n8QudFIIKKqioaBJSspm3JRofEzx5azDW3BysubmQvU//XAqklJXuo1erYjh06JB89NFHpZRS3nxz\nT5d9jt/Ll6+Qgwffa6QPH/6A3LQp3EXmp59myxkzvpFSSqlpmuzb93YnPT2M7WnTPpORkTvcllcY\niYmJbtPj4uJKlL+i6dKli9v08PDwQvN89dVXFVWdAjz00ENSSinbtGlTqvyjRo0qz+ooFC5ompS3\nv/envPXtpbLn+AWy+6s/y87PfydvGPO1lEnfSBnzZKl1221niexspZ/he7no0KGDsT169CiX5fOk\nlEyfPoOnnnqy0PxDhtzHkCH3sWHDBhIS4guVy0/Hjh0JCgoiODgYgI0b9bWEnRdwCArSw074+fkV\nyO/oTnJ8+/r6cttttyGlpF07/S3otddeA8DDw8NF/uzZs2RlZfHMM88Uqxf0lr67dOdFyh04dAoh\njBm4Y8cWXLD7+PHjBXQKITh8+DBSSmO2tqM7TQjBgQMHsFqthIbqb1lz5sxh9OjRxjKYjnM3ZMgQ\nF505OTkEBgYipSQyMpLIyEg0TeO7774DcImR/9NPeW98peHkyZMF0jIzM91IKq52Vu+NxZqTQ26O\nBR8PQf3qVWgQVJVRd3aGtK2QkwLnSx+2ocSU9ClxKT9copZ/aGhveexYtJRSyszMTJeW//DhDxh5\nbr/9DhkVdVhKKWVsbKwcPnyE7NEj1NhfsOXvvoVfkpY/uneU4wkuN2zYIKWU0svLy2j5O5+fnJwc\nl/yBgYFSSin9/Pxc9Dmw2Wzy1VdflVJKaTKZpJRSenp6SkDeeOON0tfXV/r6+sr09HQXvfPnzze2\nHS3/rKwsWbVqVSM9PDxctmrVSp49e7bAcS1fvtwoS0opJ02aJN1d5+joaCPd+dtqtUpANmjQoMD5\nMplMRr2tVqux75dffpFSSmOfj4+P7Ny5s/T395eAtFgsUkop69Wr56LT0fJ3rp+fn1+B+jZp0kQu\nWbJEXn/99bJFixbSYrHINWvWSCn1e0JKKTt06CDj4uLkK6+8IqXU7zMppWzZsqWcP3++bNq0qaxd\nu7YhL6WUX375pTx58qQcOHCgUabjesTHx8vJkycXOG+KK4fohFTZ63+LZM9x86SMe1nKuJekjBkj\n5fFHpDx6n5SH7pAyeV2pdHOttvwtKz4i84thaGej0ZJiyPphDFk/uI/rA7By5QoefvgRBgwYyODB\n97rqsmTTv/+d9O9/J+np6bRura9p2qBBA2JiYlm2bKkhK4QgMzOTAQMGAvoU7R49QnniiVH061fy\n0XubzWZcGE3TsFqt9O/f32UMID09nTp16hgBpUoSMuGpp57CarUSFBSEyWTio48+MvrnhRDk5ubi\n4eHBunXr2LZtGy+99FKBlaGGD9fXWfXMF2rB0ZfvaFEfPnyY2rVrk59hw4YBeRFa33zzzWKjtToT\nGhqKlJK4uDijvKSkJEBfNezEiRP06dPH5W3mhRdeAPQ3lKysLJo3b05kZGSBPv3Tp0/zyy+/8Prr\nrxdavrvxjKSkJG655RYA2rRpw44dO+jbty89e/Y0ZJKTk0lOTi4QeTYwMJC7774bPz8/zp49S4rT\nAvL79+/nzJkzbNu2zYhZlZysB5n74YcfqFmzJoorl2a1/bHm5tKtRS3QrJCTBjnJkJuit/pzU6Ha\nLRVej0q7kldp6pV0/jw1AvzJfK8XUrPi99pqTFWqu8isW7eOJUuW8tln0wrVs2LFSiIitvHOO2+7\n3d+jRyh//x1+0fWrCM6dO8efTovQP/LII+WiNyYmxsWF7GL1zp0719gOCgoqsJi33SuB2bPzQlt3\n6dKFNm3alEj/tm3b6NatG15eXuUySFwcJ0+epEmTJhVejoO5c+cyZswYNfh8tXPycbBmgi1T/267\nrkzqLsbb56oy/lu2buOm7l0LdaNctWoVYWET2bKl6BjYhRn/9PR0+ve/g/DwTRW2iPO1gCwHV1cp\n9cBvFxMsTqGodBy51274M6DuU1CzbI23a9b4F8e5c+eoVatWsXKOsvMbKE3TEEIoH32FQlF+yFyQ\nGph8yqxKGX+FQqG4Brkkk7wUCoVCceVyVS3gbrFYihdSKBSKKwAfn7J3AxWFavkrFArFNYgy/gqF\nQnENctUb/wkTJjBhwgTn2cOl1lEebN++vcw6cnJyipVZubLk4aWllEyYMIEZM2aUuk4LFy4EKPc1\nbGNiYoA12/VvAAAgAElEQVSSHbNCcalwZxMiIyON0CXF5c1viyZMmMDHH3/MnDlzyrWeRXFV9fkX\nRlhYmHGybTYbJ06coHnz5iV22XRc0Pfff5/mzZszfPhw0tLSWLlypTFztTgmT55M69atadKkCXFx\nccTGxhIcHExAQACxsbHMnj2b8ePHl/iY8t94d911F9nZ2fTq1ctYC+HOO+8ska63337bOMb169dj\ntVrp169fiesCupfBhAkTCAsLY+LEifj6+jJ8+HBmz55tGO6hQ4eSlZVF165dL0o3gMlkQtM0Tpw4\nQdOmTTGZTMY5KMkfTqEoT3x8fHjjjTeMyYYTJkzAbDYD8Pfff9OjRw+WLVtGTEwM8fHx+Pn58frr\nryOlJCwsjMmTJzNu3DhDn+MevpRejld9yz8/c+bMwd/fv1RBtbKzs40wB/7+/iU2/KBP59+9ezcA\n06dPp0mTJlStWpVdu3Yxc+bMizL8kLfYTVhYGLVr12bFihXG7NjSGsOVK1eyYcMGbrjhhlLdhGFh\nYURERCClNMJm/+9//6Nr164MHDiQRYsW0bRp02JDWrtD0zTWrFlD1apVjVmvYWFhDBw48KJ1KRTl\nRbdu3Zg0aRJhYWHGHKIePXqQnp7O3XffTXy8HtTREe5dCMEff/zhYvid2bt376WpOFeZn39JvX0c\nrcfSkJqaSkBAQKnyOlOe4QKysrIwm80cP36cZs2alUrHjh076NSpE1C28+MgMTHRbQya6Ohomjdv\nXmq9lzrMgkJRHBMnTuT//u//CqSfOXOG+vXrl0jHzp07WbJkCW+99RYeHh5A6bx9rtlJXsrVU6FQ\nXC1UtPG/5rp9FAqFQqGMv0KhUFyTlLnbRwhhArYDsVLKe4QQ1YH5QBPgBDBMSplilx0PjASswItS\nytWF6FSxfRQKheIiuaR9/kKIl4DOQIDd+H8AJEkppwghXgeqSynHCSHaAnOAG4GGwFqglTsrr4x/\nxRF5WpKUVfi5reIl6NFERS1VKK5ELsb4l8nPXwjRELgLeBd42Z48COht3/4R2ACMA+4B5kkprcAJ\nIcQRoCuwrSx1qCisVmuBVauKIjIyks6dO1dgjcpGbm4uXl5efLL0ALc0Lnxg/N8LQZi9GtOpfuH3\nz9GjR2nZsmWR5WmahslkIiYmhho1alSKMNhZWVnG+seVmfJY70ChKI6yTvL6BHgNqOaUVkdKmQAg\npYwXQjjW9GsAbHWSO21Pq5RcjOG/EnAsemLTbHSoZXW7GI2Ukh2pHuVSnkO/lLLAkpCXC8cknMqO\nMvyKS0GpB3yFEAOABCnlLqCou7VU/Tdvv/228XFeTrCkdOnSBdAnYVyMfHGUZOarlJLnnnuuRGU6\nPiWlJLJxcXH8/PPPhe738fHBbDYzZswYl29fX1/0IZyC9SuqXMf+v//+u8A+Z0OWk5PDE088ccmX\nJpw4cWKBupSVAwcO0L17dzRNM9K6dOnCzTffbJyPL7/8skC+bt26GRP0FIqysmHDBhdbeTGUxdun\nB3CPECIa+AW4VQgxG4gXQtQBEELUBc7a5U8DjZzyN7SnucX5gPr06XPRlfP19aVLly5s21Z8r5LD\nsJXEsA4fPpyDBw9itVoLnan6yCOP8MUXX9CjRw8AvvnmmyJ1bt++nRtvvLFc6nnTTTcZ2yXR6ZiJ\nW1r++9//sn37drZv386LL75YpOyoUaOYNWsWAQEBPP7444wYMYKHH36YHTt2APoi5c7GtLwICQlh\n/fr1RcrcdtttpKam8tlnnzFy5Mhi61G1alUiIiIwmUwuD0chBNu3b2fy5Mn8/vvvPPvsswBMmjSJ\nBx54AIBly5YZC78vX76cM2fOuFw3haKk9OnT59IbfynlG1LKxlLK5sAIYJ2U8hHgD+Bxu9hjwO/2\n7aXACCGEtxCiGdAS+Ke05ReHxWKhb9++JTLojmBrJQm6Nm/ePL766is8PT2NmXiF4a4lXBj//vtv\nsTLTp08Hiq7n1q1bGThwINOmTSuRzrKuRRwcHGxsF3f+HJPwhg8fzlNPPcXdd99NTk4OHTt25MyZ\nMwQGBlbIYuyzZ88udlb2W2+9RUREBNdddx3PPPNMsTod1+LGG2/ko48+YsGCBQVkzGYzX375JRaL\nhTfffJOjR48C0LFjR9avX09CQgIhISGcPn2arVu3FsivUFQojmiXZfmgD/AutW/XQPfkiQJWA4FO\ncuOBo8BB4PYi9Mmy0rlzZ9m9e3fZuXPnEslbLJZiZTRNc9FntVqN7e3btxeab8aMGYWWOXr06BLV\nz0FJj0fTNLfpI77YLXft2iX37dsnO3fu7PK9Z88e+ewvp2Xkac0oy/nj4MiRIy46Q0NDZefOnd2W\neerUqZIeWoVR2LlwxmKxuHxKwu+//y6llNJms8ns7GyXvDabTWqaJs+cOSOllPLYsWNS0zRpsVhk\nbm6uPHv2rJRSyujoaBkVFVWaw1IoCmC3nSWy21dVeIfLSWX39nHwwJd7GNdTuh3Q1jSNGfuDGNmr\nXpm9fRycOnWKxo0bl7q+CoWi5FwyV8/KRmpqarFdMQ7Pk+TkZMMDxh0nTpygXbt2AGRkZJSo/JLK\nlQRHPctL55EjRwgJCaFRo8bMPJhZyOCnxGrNxdOWSVHF2my2Yut17tw5mjZtSuPGjUlLSytz91J5\n4DgHDtLT00s0COy4FpfqOJKSktQDU1HhqJb/NUZqtuTo+cL3B/hAyyDlaqhQXIlcFS3/6OjoEsWU\n1zQNm82GxWKhQYPKNW2gskYZrVPUzmw4XagPlnsWL17MkCFDXNKWLFnC4MGDL7puCsW1xNmzZ2nU\nqJHbfadOncLHxwcvL69iezTg4l2ZK63x9/X1LZGcpmlYrVaEEPj5+VVwrS6Oiu4iqDNNN+MJ/00o\nsH1Xi7v49u5vqf9pfSOtqldVDv3nEA0/a8jMu2ZyT+t7DF2LoxYjpeTe6+6lzrQ63H/d/bzR8w2i\nkqJ47s/n2P/0fupMq8PBMQep4VuDunXrEh8fT5cuXfD39+fBBx+kTp06JCQkALoXjNlsRkppyNar\nV89Y3KJOnToEBgaSnJxs1CE+Pt6QFULw5ptvMmnSJP7spt8LvX/PZuMgfbt/RBb1Pq3H4f8cZkvs\nFjJzM426O86DQlHZ8fX1LdRuOebjeHp6Vsik00pr/Ivqj3dG0zSEEGiahre3dwXX6uKoCJ91Z2zC\nho+nD97e3tiEPufAsb35zGbqfFYHBNw2/zZub3U784fMN/INbT/URdfwDsON7YXDFvLKmldoWqMp\nnl6eHHn+CHP3z6Vutbrc8sstHHz6ILNmzcLb25s9e/YY+S5cuGBse3l54e3tTUBAAN27d+epp57C\nw8ODmjVrkpqaSufOnUlLS+P48ePk5ORw/vx5atWqRffu3XnssceYN28e06dPZ8qUKXho+nWVKRjb\nPj4aVmEl8lwk97TJe4h1qNuBTY9uKuczrVBUDI7/iTu8vb3x8vIqccv/Yqm0xr+kTzqHgb3YWDyX\ngoquT2jTUOYPmY+npyd9W/QlOCiYXJlL90bdWTpsKVW9qxL6Uyjhj4Yz9NehjPh9BIvuW8TPQ35m\n9MrR/DDwBxd9t8+9ndUPruaOlnfQt3lfPE16i2Pqv1MZe9NYZu6eyS9DfsHT05OXX36Z++67j6FD\n9YfIokWLXLYdKxtlZmbSt29f5syZw9ChQ1m0aBGg39hLly7llVde4eOPP6ZGjRqGrEOmRYsWeHp6\nMmi/1V5Dk7EdkxpH90bdGdB6gEvd61erbxynQlHZ8fDwKNROmEwmPDw8ipQpC5V2wPf8+SJGJZ1w\ndPtkZ2dXuuX9srOzL3cVSkWKJYUA7wCEEKRYUqjmU62AjFTBxxSKMhMXF1fo0qvHjh3DbDbj5eVV\nYuNfo0aNK3/AV3H5cDb27gw/qOBjCsWVzuV3vlZccswfuI9uOWzYMFJSUgDdJx70YGwF8pvNZGdn\nl1uUTEeZAF27dgX07iJnli5dCoAtX7qD0z/+WKC+7haQn75rOm1/aAvoYa579epVZN12jRhhbO+4\n994iZf++Aib5KRQOlPG/gvn838/pM7sPAG2nt6XFly2IS4/DqlkZtWwU5g/M5NhyGDB/ALfMvoWf\n9vyEVdP7zJt9UfBV85NPPqFaNb2l73jNdAxGOYyqI15NcHAwhw4dIikpqUA8Hsdvf39/l3SHboBm\nzZoRHR3tUhbA4cOHAX2SWFJSEqCP59xzjz6o61GIZ0QDe4A6b29v5s/XB7bdTUQbEzLG2Pby8jLc\niRP/EST+I7iwRxjbACHz5hnyWadOAXDis8/Y88QTpO3dC8DBl/WlLHpERrqtm0JRGVHG/wpm7Lqx\nHDl/BIlkRLsRnEk/g4fw4FzmOebunwvA3zF/k5GTwZELRzh64SieJt3Quuu2cU7LPxbkMNAvv/wy\nNpuNkydPAnqQtsmTJ7vIOjwTXnvtNSAvjr6zTovFwqZNhXvl1KtXj6CgIJKTkwsdOwlv29Zt+vHj\nxwvVm78eDmp2ldTsKql+vTS2CyN1+3YyDh2i6nXXEf/bb1AJx80UiuJQA74VyJU64Hsp2LhxI717\n9y5e0E5sbCwNGzYsVs55INpsNpOVlVWkbK9evQgPDy9W777Ro7mwZQs99+8nJyEBn7p1ATj7xx94\nVa9O9Z49S3gkCkUel3PAVxn/CkQZf4VCURSX0/irbp8rnLNnzxYvVArcLYJTkvUOSsOWrl3JKeHD\n3hnrJV4RTKG4mlDG/wqmefPm+Pn5MWfOHGrVqlXAu8VqtVLX3j0xcOBAGjRoQEZGBs2aNTNaG7Vq\n1TJWJHP0zd95551GP75zqyQtLc3YdpTl7PHTrFkzevbsSfPmzalVqxa1atVykS2Mmrffjlf16i5p\n51asACA7JobN11+P1DQ0+0Cyw+vGw2lAefTo0UWWoVAoXFHG/wrGEfzuoYce4ty5cyQmJrrsz87O\nNtwo165dy8MPP0yVKlWIj4+natWqLFq0iEaNGhnLPa6wG9yVK1eyePFiwP3gqdlspnHjxtx5551U\nqVKFoKAgABo2bMjRo0eJjo5m//79/Pvvv4Zs3759Cz2O1pMmIYQoMIAbNW4cvvagV2m7d5O2ezcA\nGYcOAa4D1HPmzCnhWVMoFKCM/xVNy5Yt6dixI1u2bCEyMtJomXfs2BGAQYMGUaeOHuisVatWjB07\nFpvNRlZWFnv37mXo0KEkJiayZs0aAMaOHWvodSzW4rz95JNP0rJlS7KyskhKSmLlypUEBgYaLpmn\nTp1i9erV9OjRAx8fHwIDAw3ZtWvXAkWPg3TbtImt3bsDEP3RR+TaYwV51azJwVdeoVqXLmzr1Qtz\nixYF8taoUaMMZ1KhuPYo04CvEKIa8C3QHtCAkcBhYD7QBDgBDJNSptjlx9tlrMCLUsrVhehVA76X\nARWyQaG4tFzJA76fAiuklG2AG4BDwDhgrZQyGFiHvm4vQoi2wDCgDXAn8JVQlqZSoS6HQnHtUGrj\nL4QIAEKllLMApJRWewt/EPCjXexHwLGixz3APLvcCeAI0LW05V8LFBaGQaFQKMpKWVr+zYBEIcQs\nIcQOIcQ3Qgg/oI6UMgFAShkP1LbLNwBinPKftqcpnPD7wI+vd3wNwMExBwHYd24fAJM2T8L8gZn0\nnHTGrx9vLJSiUCgUF0tZonp6Ap2AZ6WU24UQn6B3+eQfRCjVoIJzyICePXvS8xqZQSmRtK7RGoDf\no34nyBxE1/pdyczN5N2/3wUgISOBsxm6f7+Pj89lq6tCobi8bN68mc2bN5cqb6kHfIUQdYCtUsrm\n9t890Y1/C6CPlDJBCFEXWC+lbCOEGAdIKeUHdvk/gQlSygKzidSAr0KhuBa4Igd87V07MUKI1vak\n24D9wFLgcXvaY8Dv9u2lwAghhLcQohnQEvintOUrFAqFovSU1dvnBWCOEGIXurfPe8AHQD8hRBT6\nA2EygJTyALAAOACsAJ6RlTGw0BVKaglCHRw9erRM+Qtj3bp1pc6rUCguD2Uy/lLK3VLKG6WUIVLK\ne6WUKVLK81LKvlLKYCnl7VLKZCf596WULaWUbQrz8VeUnIceeog77rgDgICAAEBfBGX37t0Folne\nd999BAUFceDAAdq3b0/r1voLW9u2bXnttdfw9vamQ4cOAOzatYvu3buzfft2fvrpJwYMGEBOTg4v\nvPBCgTq8//77tGjRgoyMDDp37sx1110HQP/+/Y26OfPrr7+W3wlQKBSlRkX1rEAqus+/WbNmHD9+\nnOzsbHx9fY308+fPu53xmpCQYMz4dWA2m3n88cf55JNPDB379u2jffv22Gw2srOzOX/+PI0aNSo0\nRPKBAwdo6xSawTFZzM/Pr8CKXMWFWVYoriWuyD5/xeVHSklAQAC+vr6YzWYjyFrbtm2NCJyONLPZ\nTNOmTTl69Cjff/898fHxxqImH330kRF8rV69eoYuDw8PatasSfv27QEIDAwsUAez2Uznzp3Jzs5m\n2LBhREVFERsby+7du90umuKIA6RQKC4vquVfgVR0y3/NmjX069evQssoLWvXri0ymJtCoVAtf0Up\nqayGH1CGX6Go5Cjjf4XwTvg7pcrnrqtGoVAolPGvZNSbVo//rv4vubZcXl37Kn4f+HHPgnt4f8v7\nhJ8Kp+qUqqw7obtWNvqsEU8tfwqL1YL5A7PbWEAWiwWAxYsXM3v2bAD+/PNP9VBQKK5xyhLeQVEB\n2KSNB9s/iJeHF/sT99O4WmOWDltK1SlVuf2X22lXsx1nM85yLvMcNs3G6I6j8fEsPsRDp06dDG+e\n5cuXGw8FhUJxbaIGfCuQyhreYd26dQwYMEC5XCoUlxk14Ku4pNx6663K8CsU1zjK+CsUCsU1iOrz\nr0DyL6iuUCgUzjRs2PCyla2MfwVyOS+sQqFQFIXq9lEoFIprkKve+N82N7N4IYVCobjGUN0+Fcju\n3bsvdxUUCkUl5oYbbrhsZSvjX4EEBwdf7iooFIpKzPHjxwv1869orvpuH4VCoVAUpEzGXwjxkhBi\nnxBijxBijn193upCiNVCiCghxCohRDUn+fFCiCNCiINCiNvLXn2FQqFQlIZSG38hRH3geaCTlPJ6\n9C6kB4BxwFopZTCwDhhvl28LDAPaAHcCXwkhSjQNuaJIS88hK9sKgE2T5OTYCshYnNIid8cb251u\n+aHE5TjWx9U0jc2bN/PXX38BEB8fX+K5AOvWrePkyZMAbNy4kaysLBITE42VstLS0oxZu5s2bQL0\neQbbtm0zdJw6dQqAn3/+GUf4jMjIyCLLvXDhAunp6QDk5OQY6YmJiXz88ccusklJSWRkZABgtVqN\nxVyc6+P8HRcXB8DevXtLdA4UCkX5UdZuHw+gihDCEzADp4FBwI/2/T8Cg+3b9wDzpJRWKeUJ4AjQ\ntYzllwn/qt6YffVhj4W/H2LYqN8LChUS+shdSKRnx65xKxsQEICmaZhMJnr27Mltt93GmTNnqFu3\nLtdff72L7NixYxk7dmyBVbAGDBhAUFAQZrOZ3r17k5KSgp+fH35+foA+cNS8eXOOHz/Offfdh9ls\nxt/fn27dupGRkYHZbHYZg1izZg0pKSl07tyZGTNmFHaKqF+/PrVq1QLA29sbPz8/atWqZaz85UzD\nhg2NdX49PT2pVq0ajRo1olevXpjNZm688UZjlbDs7Gzq1asHQIcOHdyu+qVQKCqOUg/4SinPCCE+\nBk4BmcBqKeVaIUQdKWWCXSZeCFHbnqUBsNVJxWl72mWjY58fANi54XE++HRbkbI39Z9NtsXGzg2P\n07HPD7h7Z9nyz2m3eR1LKW7evJnffvuNcePGUbNmTcxmM9WrV3eRnTJlilsdwcHBPPPMMxw7dox2\n7doRERFhLImYlZVltKKbNWtGjRo1yM7OJjAwkMzMTGrX1i+BY4H2J5980sjXtGlTGjZsyNNPP02D\nBg1o164dq1evdim7f//+SCnp1KkTUkoOHjxIw4YNSUpK4pVXXnGRnTt3LtOnT6dNmzbk5uZy9OhR\nQkND2bVrFzExMdSuXZsqVaoUMPaX+SVQobjmKHVUTyFEIPArcD+QAiy0//5cSlnDSS5JShkkhPgc\n2CqlnGtP/xZYIaX8zY1uOXbsWON3z5496dmzp9t6FBfV87a5mfz1oF+pjhHgiedXMOvzu0q1v7io\nnq1btyYqKqrSGT7nN4Gnn3663GTz07dvX9auXUvDhg2JjY29uEoqFFcBZY3quXnzZjZv3mz8njJl\nSomjepbF+A8F+kspn7T/fgToDtwK9JFSJggh6gLrpZRthBDjACml/MAu/ycwQUpZoMldniGdy2r8\ny0JlDemsUCgqB1dqSOdTQHchhK994PY24ACwFHjcLvMY4OhIXwqMsHsENQNaAv+UoXyFQqFQlJKy\n9Pn/I4RYBOwEcu3f3wD+wAIhxEjgJLqHD1LKA0KIBegPiFzgGXmVj/I5Vs5SKBQKd1yuCV5Qxhm+\nUsowICxf8nmgbyHy7wPvl6VMhUKhUJQdNcNXoVAorkGU8VcoFIprEGX8KwHp6emMGDHicldDoVBc\nQyjjXwlYtmwZ3377rUv4BIVCoahIVEjnSkCvXr1Yt24dAwcOJCIigs7N67L8j2W0b9+WJs2a8e3n\n0/hp/kKC6tTHmpnM0Psf4LGRo0BIkrNsWNKSqVOrFjlZmdxxz2CWLPqVgGqBjH/pP1xItdC+YQOe\nfftdPlm4lQe6BnEm2cZP33zOpzNmgtTQ0lL4efEa/t4XS0LkYvyzLXy9cD5VazcAzcY7E74gJv4w\njapa8asSwKtvf8DzT4/m/8LexdPDg+effQ4/P29mzvqRs0lppCbGkWu10aZdG7ABAtAc37qDlwSE\npn/rTl8SDYEAbFLDJASysLaJBh7eXixesZSBt99J9NETNG/ZnIhtEdzQsSM+Xj70ufUW1v21DiEE\n8efOsnL9Wmb+3/fc6pPIxH17efP9b7ihoQ9DHn6M6TNm0Oa6YHr37sPYsa/QJOUIz3w6m7M2M7O+\n/ZZ9//5N8HXX8ewLL+Ht6cHx48dp07Y9UoCmSYQQbNi8kQdGDr8Ed4tCUT6UepJXRXK1TPIqDRER\nEbRpVAshJRLHXA3HNRJGCkICTnM5JPbfEjDl7dGEi5iLniIvvcz7EvlkNQ0pBFmZWZjNvk71kHlG\nPp8apH1TyjxVRhpIpFGUJqV91rNwUeFSO6mHhHDk0uzKhMmE1GS+PILoE8dp1rSZPT2vgprTaRSu\nuwqcDWmcCGHfFmh6RdgUvpFHRj/sPrNCUQoqepKXavlXQs5mWnUjlZuF8PTlguU81X2qIzCRmW1B\nSuk2EJqfjzcZlpzC7Bf+fmbSMrMKLdfPx5u0zCy8PD0cDXQXTFLDhsDTJLA59jt1VWWkpmKu4oeX\np2fefic8TSYyMjPxM/u63S+lRFqtCE9PtyEv0tPTqR4QQI4EIbWC+YEqPj7Ua9QY8u1v30APRHfq\n+AlypeY2Mp8EqviaycjOcnsOJeDr5YuHh/5G4njgpKakkIPFTQ6FovKi+vwrIZ5xcVT780/8Tn2H\nlnaKcRfewRMP0jMymffLL6xbt46dB3YT+dfPhg3bunUrp2JPo0m9sT/onoEsnz+Dh59+AZuU5Obm\nkpyWzvrMo1Q79x4eHh5s2rSBt14Yye7Ifbz77rukZmQy4XgNtnu3YskPHzLi/gf4ZvZM0mP3sH//\nfqyaJDnXgwbB13M6Lo6NC37m/t63kJKaTU5ODlWrVSPeZsarUTuOHT3K8ejDxMbEYBWCxYsXY5MS\nP18fEmoEo9lySU5OQ0NgteZgsVj0yKdeXhw7dgyA8J1RJKTnkpF8FCkl/v7+pGdlgckDk8mTx+65\nhXc+/JTjxw9jsVhIvnCB6jVrIoUHEhj73tc0aKhHTU1LS2PBggVcSElBSokpK1nvrlkzlzsHDOHC\nhQsgJeeSEvF8/XU8+/cnNz2Ozp17YrNZ0TSNFcuXY8nJJjM7k8zsTHJzchBCcPrMmct0pygUpUd1\n+1QyIiIiCKruWP/Gtb8lPcuidzYIgaYVbPmWBJPQdTq37E0mk6EvJycHPx9vrEXcFp6CQvdnZ2fj\n7+dLbiHV01vvVQvd7w4hhPGmk5WVhbmKP2hWt7ItW7ZEmjwQWt46DM7HJ6XkWHS0+5jcDjw8QHP/\ndgDg4+VNenoGJpOJaoGBgL5mwajRI0t+UApFMahun2uQuvUbFkhzdINYLBaCgoIMY+hsGJ1li0or\n6/4rXWdIvkWzi9KZmZmJzWbD09OT3NxcduzYQUhICB4eHoa8EIKgmjVQKK4kVLdPJSQnJ8dYPSs+\nXl89LDo6mqioKPz9/YmIiODYsWje/98z/D3/C45u+JaMtAvYbDamffMzYRPC2LDyNwSSX1f9zZwZ\nX5BtsbBseyzf/RHJj7MXEnsgksy0JISwIYTG2u2HeHPCROZ9+wWgt5CnfvIJGRnpzFsfye9zv2Ha\n1CnEHd5KakYWSZk5emz/U4nk5OjjEOkWq90YWkjLyuGP1ev5aPK7ZKefJ8di4btf/mTVn6v5/sup\nvP/++5w9fcowno4P4Ha7NPtLq3Pq1KkIIVixYgWgv13OnTsXTdMIDw/HarWyatUqo3tq1qxZFXUr\nKBQVhur2uQxcuHCBF154gYceeogFCxZQq1YtDhw4wB9//EFERATt2rUrNG9aWho1alyaVqa7VvTF\n4Nzd4qKXYhyNKhG5ubkuvz08PLBarQUGpP/66y8GDx6MQlFeqG6fq5Dq1avz+uuvExAQwLFjx7j1\n1lv1AUc7f/31F4MGDXLr8eLv71+o3nnzFjBixLAKqfO1Sv7IrF+uOsCoW1vj65X319m5cye7du1S\nxl9xRaGM/2Vgzpw5xhq7q1at4tChQ9x+++3G/vxGRDv+L6JpF4QQfPjhh7Ro0YqIiAg8PT1JSIin\nRo0aeHl5ER19nPDwTdSoEcTevXtYvPg3hBBYrVY8PT2x2WxGX3Vx2Gw2TCa9V9DxEMrOzjaMoWNN\n4jKSFQkAACAASURBVPwsXryYIUOGuKRFRUW5rB98pTJt+T52HTnFg9fvw7de3kO2Y8eOnD179jLW\nTKG4eFSf/2XgoYce4t5776Vfv374+voSEhJirLPrjtyTu7Ae3QLoXSn79+9n7969pKQkExMTS1jY\n24wfPw4hoHXrYKpVq4bZ7GcY7YULF7Jr1y769OnD4MGD0TSN6dOn8/LLL/Pjjz/y3nvv0bFjR8aM\nGcOmTZuQUvLuu+9is9kYP348I0eORErJkSNHCA0NRUrJihUr6NChAxMnTmTPnj3ccMMNvPHGG3h6\nenLHHXfwyCOPIKVk0aJFJCcnA7B8+XK6detGSEgIH3/8MTfddBPnzp0jNDSUBg0akJCQQJMmTbhw\n4QILFiyo+Atxkfy5/TA/3L+E6he+1r2BFIorGNXnX8mIiIige/fuLmnp6elUrVoVgNjYWBo21L2B\nDh8+TOvWrdm+fTtdunS55HV1II0ZudcAqZvAvwcI1zeoVatW0b9//8tUKcXViOrzV+Dl5WUEfatd\nu7ax3bRpU3Jycrj++utVULhLhW93yLXh6SncdnspFFcKxd69QojvhBAJQog9TmnVhRCrhRBRQohV\nQohqTvvGCyGOCCEOCiFud0rvJITYI4Q4LISYVv6HcvXiaFlHRkYaoR0cnyVLlhgyzp+cnJwCadI+\n09chf/ToUSNd0zR++OGHAvLbtm0jJSXFbRkWi4WcnBw0TXNb1pX8+fzzz9E0jYSEBOPY09PTycjI\nYO3atZfnRlAoypGSNF1mAfnfZ8cBa6WUwcA6YDyAEKIt+pq9bYA7ga9EXn/A18AoKWVroLUQQr0j\nXwSaptGpUydiY2Nd0gcNGmT0qTtz7tw5Tp8+bRgvBx4eHmRkZJCUlOTiMiqEoF+/fmRkZLjIBwcH\nk5GRgaZpxMbGurh+enp6IqXEZrORnZ1dHodZaRg9ejQnTpwgMDDQOOd+fn54e3vTsWPHy1w7haLs\nFNvtI6XcLITI35k+COht3/4R2ID+QLgHmCeltAInhBBHgK5CiJOAv5TyX3uen4DBwKqyH8KViaOb\nxsvLy/CsKawbwdngNmjQoIDvfUBAQIG0evXquc0PYDabMZvNBfY58jinBQQEEBAQYJTtvF8IgZeX\nF6A/VCrj+FFp8fHxoWnTpgDU/3/2zjtOiiJtwE9198zs7mxkF5acFUSyAnpiQlTUM3vqBU9Q71Ax\nnIEz5wDimc90xg/j6WEAE4LgKSooKBmJS9pdFpZNk6dDfX90T8/sEgQOJdgPv2anq6urq6uq33rr\nrdS6tftuqqpSVFS0B2Pm4bF72FWbfwspZRWAlHKDECI1VKUN8E2Gv3LHzQAyVdb1jvuvkvLycu66\n6y4uv/xybr/9doYMGcKsWbN44403tuo/Jaib0nTo5vLlyznggAN2Ki6GYXD/u0vpUGAhkJxxdC/y\nA6JRJ66Uko0bN7qVwI6wrThvj19Vx7GHxx5md/VY7XaVb+zYse4xY8aM3R38HuVPf/oTU6dOJRAI\nYBgGfr+/UW9+bW3tFlr0oEGDGp2feOKJruB/9dVXMU0TXde599572bRpEwCVlZV88026Lp47dy7j\nxo0D4NNPP2X06NFomkYzf5Jn7vgrA9tpqJqkf//+7vPLysrcheQefvhh7rvvPsrKyvD7/W4Loukx\neXK6QTdp0iTmzJnjnq9du5azzz6bmTNncvfdd3PZZZdxxRVXMH/+/H1W8EciEXc5Dg+PX5IZM2Y0\nkpU7ww4N9XTMPpOklL2d8yXAMVLKKiFES2C6lPIgIcSNgJRSPuD4+wS4A1iT8uO4nw8cLaW8bBvP\n2++HesZiMSzLIjs7m2QyiaZpaJq21aGelmW5wz2brlAphLBXuszOZvHixfTo0WOrz9vWUg1SSv45\naQGHtxf4VIXO3Q5GJMMEg0GEEO5zq6qqKC0t3eH3a7q0Q+r5ma2VVPxTnazbM33t7XhDPT12N3vL\nUM/0tko2E4HhwAPAhcD7Ge6vCSEewTbrdAW+lVJKIUS9EGIg8B3wZ+DxHXz2fkmmWaTpEgIpbRts\ns0yqY3ZrHbspEokErVu3pq6ujkRi2xuLaJrG1KlTadasGXPmzOHII4/k2C5FSAnRWIx7b/s7n346\nhTFjxtCvXz82bdqEqqpYlkVNTc0vtq7Q3oqqqmiaRnl5Obm5uW4+Ne1Y9/DY2/lJ4S+EeB04BigW\nQqzF1uTHAm8LIS7C1urPBZBSLhZCvAUsBnTgcplWN0cBLwNZwEdSyk9276vsPxQUuCNnMQxjpzsY\nm468WVO3BonEr/oJqAF+c/xvUBWVoUOHUltbSzKZdJ/Rt3dP7r77HvfeQme9eg+bVAuttraW/Px8\nV/jn5Ox9rUsPj+2xI6N9/rCNS0O34X8MMGYr7nOAXjsVu18pmbbvzKWGdzWMtvltiRtx4macwqxC\nVKFiWibJZJJgMOh25O7qBjG/JpouB525JLSHx76EN8N3P6SpINJUjTwtj1yZ617P9GNZ1hYVTtP+\ngf1pM5fdEaaHx76OJ/z3EXZmGGTTPgQPDw+PpnjCfw8wf/58nnrqKZLJJFdeeSWvvfYaPXv2ZPjw\n4bsl/FgstlP+t6XZbmszFlVVMU1zC/dfA5qmuRPbPDz2ZfbNcXX7OFdeeSU+n48xY8YwcuRIBg8e\nzLx589zrS5cu3arpIZPjz3oTANO0aAjZo3tC4fTiblJKdwhseXk5Qghmz57NypUriUajzJ49m3vu\nuYcbbriBZ599lqysLDZt2oQQglGjRnHEEUfw4osvYlkWkUiEc889l9/97nckk8mt2r1/TUdTNmzY\nsMWyGx4eezveks57gHvuuYdoNIphGPTr14/JkyeTm5vLk08+ycyZM+nWrZtr5jEMg+bNm2/T7JM5\nVj51PRaLNZqdu6Pmoky79/bcttUi+DWgqqqzcc4qCgsL3XSZNm0aZ5999h6Oncf+xN4yzt9jN3Lb\nbbc1Ov/DH7YcULWjAntro008m//Phzeqx2N/wRP++wg7I3SMeJxEXR3L33nHXm7ZskBKckpK8BcU\noPr91K1YQbBVK/LatsUyDDbOnYueSCCFQJESf24uXU8/HSyLurIyKmfORAsGsZJJJBDIy0Px+VAU\nhXBlJe2HDEENBDCTSdZ89hkSe80PAbQ9/HBySksRQrB2+nSklKiahqnrmI4ZSfX70aNRgq1a0XrQ\nIBCCym+/pX71aizSswzbHXkkis9HtLqa6vnzKejcGSuZxIjHiTv7ICuahplI0PX00/Hn5ZHdrBli\nB7ev9PD4teAJ/32EnTHf+LKz8WVn02/UqG17arIUQZvf/GabXoMtW9Lm8MN36NkALXr33ua1XiNG\n7HA4eU32Am5Kx+OO2+GwPDw8GuN1+O6HSCkJVVQwRggmnHIKUy6/nM+uuorqxYsBsPbQSJ1aRzN/\n/fXX+eabb4hEIqxfv54pU6bwr3/9i88//9yOn9OPs2TJEnepiuuuu46nn34a6WxI8/DDD7N69Wru\nuceejfzHP/6RkSNHAvZqp8888wwNDQ3uukEeHh6N8Tp89zJSHb4pfqrDd2tIKYkkIgQDwa1e39ZE\npqSRxK/5ATAtE0UoWzw3rsfRFA1N1TAtE1VRtztJqjacoCg30KhTen9Yutnr8PX4ufE6fD12mrgR\nJ6bHuPjli7nm+GuY/uN0OjfvzIqNK+jdtjcBLcAXy79g+o/TufK4KynIKmB51XIWlC+gRUELSoOl\nDOgygE4lnTAtk40NG5m/fj5RPUp9rJ6kkaRZsBntCtvx/rz3eWH4C/z4448kEgn69u3Lisp6pi8s\np0vLfD6cs5Y+nYo5rldbGiJJDmpXRDJpEgh4Rc/DY0/ifYF7gMMOO4yBAwdy5pln8sILL9C5c2fm\nz5/v7se7NXZGU872ZZPty+bfl/4bgEGdByGE4MFPHuTUvqcipWTowUMRpEcKDZPD3Pulsz1DSvNv\nVdiKnm174lN9jbR6IQSn9jsVgO7duwPw2WerOe64jhzQ2l4Q7rje7dIRK7b/eILfw2PP49n89wD9\n+vWjV69edOrUifLycrp27UpxcbF7fcmSJVuYZf4X89yG+g0AHN7F7rS1pMXyquWN1vSpqKugrLqM\nDQ0b2FC/gUXliwDb/DNj+QwM08CyLBJGAsM0iOv2yqHfrPiGH9b9wKLyRWyoiFJfn9xKDPZvKioq\nWLNmzZ6OhofHTuHZ/PcAa9asoa6uDl3X6dOnD2vWrKGkpITCwsLdYvP3+PnxbP4ePzeezX8/pEOH\nDo0qqq5du/7kPZ7g9/Dw2J14Zp99hJ1poUWTUWojtTzw8QOc98x5HHTrQSxcv5DlVctdP7FkjOe/\nfJ76SD1fLvsSgCemPsGt79wKwHX/vo6F6xdSUVfB0sqljHhxBEePPZqHJj/Ej5U/8vGCj2mINXDX\nxLsY9ao9n+D7Nd8D8P63q/j3jBV8Oncdb365nFnLqzBNi4VrN3PZs1/wwmeLkVKS0E0sSzJ7xUYA\nxr33PSsq69ANkzlzNjB//ka+/76KRMJg/PhFHHLIeHfo5oQJS3dLunp4/FrxzD57GbvT7LN682ra\nFLbBp259FcoN9RtoWdByp8L8qXhYlkRRxE+6/a/P2dNmMM/s4/Fz83ObfX5S8xdCvCCEqBJCzM9w\nGyeEWCKEmCuEmCCEyM+4dpMQYrlz/YQM9/5CiPlCiGVCiEd36E08/ic6FndsJPiHvzi80fWtCf5Y\nQueHVdXohsmqqgYWrd3Mpc9+QU0oxrrqEBWbw1z67BcMf+IzvlpSyRXPf8kfH5nKzGUb3DDGj1/I\nAQc8x5o1dVx88ccIAdOn71yH6E8Jds8M5uHxv/GTmr8QYjAQBsZLKXs7bkOBaVJKSwgxFpBSypuE\nED2A14ABQFtgKnCAs4H7LOAKKeV3QoiPgMeklJO38UxP83fYnR2+uqlvtRWgGzo+bftr1O9pTXtv\nw9P8PX5u9rjmL6WcAdQ2cZsqpUyt6TsTW9ADnAa8KaU0pJSrgeXAQCFESyBPSvmd4288cMaORHB/\n4sQTT0RKyamnnoplWZx++ukYhsHZZ5+NruvbvXd3CN76WP0WbrFkjJpoDZMXTuaVb15h3ryNP9vz\nPTw89h52R4fvRcBHzu82wLqMa+WOWxsgc7eL9Y7br4r/+7//IxaLMWnSJJYtW8abb77JxIkTefnl\nl7n66qtdf5FIZLeO86+J2K2o4mDxFtey/dmU5pdyYs8TueDwCzjwoDwsy8Jy6vZoMophGtRH64kl\nY5iWSU2NPcZfN3XX/ddMIpEgHo/v6Wh4eOwU/5PwF0LcAuhSyjd2U3z2ayoqKohEIixZsoQWLVrw\n448/MmTIEL766qtGa/oHg1tfk2dHsSwL3dSpDlWzObyZvKw8AG5555afvHfk+JH0u70f//rvv1i1\nso6znzqbz5d+zplPncmo10Yx/IXhXPCnDwE49sFjyfHn8N4P256Z/GsgEAh4eyh47HPs8jh/IcRw\n4GRgSIZzOZAxn5+2jtu23LfJ2LFj3d+DBw9m8ODBuxrVvYb+/fsD0Lx5c8C2zwEMGzZsC7//i5lF\nURQUFErySly30/95Oif1PGkLvzWRGpoFm1EfrUcIwdMXPE1ttJa2RW1ZXb2aj67+CN3UGdpjaPqm\nv9h/Ztw4A4DfD/r9LsfVw8Nj15kxYwYzZszYpXt3VPin9tKwT4QYBowGjpJSJjL8TQReE0I8gm3W\n6Qp863T41gshBgLfAX8GHt/eA2+88cYdfwuPn+Tdy9/daoWSG8hFSklBTgG6qSOEoCTXrjTaF7fH\nkhaV9ZV0KN6yM93Dw2PP0lQxHjdu3A7f+5PCXwjxOnAMUCyEWAvcAdwM+IEpjkCZKaW8XEq5WAjx\nFrAY0IHLZdpYPQp4GcgCPpJSfrLDsfT4nztcFWXrFr7UEs6AOxJIU+xioQgFBJ7g9/DYD/lJ4S+l\n3HKDWXhpO/7HAGO24j4H6LVTsfNw8YZaenh47E685R32Q0xdJ1Zbyzi/n9ePOorPrr6aCaedxmfO\niCLLMAAY89EYu3PY0KkOV/Pe9++lR/kkopimiWmarKtZh5SSbrd0I5KI8PZ3b2Na9m5gST3JQ5Mf\n4tWZrxJLxnh3zrsA9L+7P3e8dwf3f3g/r3z9CjE9xkfzPuKr5V/tgRTx8PBoire8w17GtiZ5eexd\neJO8PH5u9vgkL4/dx/Ll9hr6lmVRVVVFXV0da9asYcWKFbz55pvbvXdvrKQ9PDz2XTzh/wuSl5eH\noihcf/315OfnEwgEWLBgAS1atGDmzJmuv++++84T9vsQZWVlLFu2bE9Hw8Njp/DW8/8Fefrppxk0\naBDFxcVYlsVDDz3Erbfeyrhx43j00fRadwMGDNjq/XPmzPmlouqxDVRVpW/fvo3cOnXqxIEHHriH\nYuThsWt4wv8X5K677gLg5JNPBuD2228HdmxOgxCCQw45ZIeeE41GvZFBPxM7anv18Njb8UryPshj\nz35HUUEWfz6/F+srGqjcEKZr52bkZGsEApor+GtraykoKGDKlCkkk0mOOeYYEomE14H8P+BVqh77\nC57w3we5emTaLNSiJEjb1vlbzAMQQlBQUICqqpxyyimYpulO2jJNEyEEErtfQeAJNA+PXxteh+8+\njt+vAo010mQyyVdffcWsWbNIJBLouo4mNGZXzkZz6nuf4mP8wvHc+MWNSCQzK2Yy+vPRvLb4NQ55\nxTYvRSIR5s6dSyQSoaKigrPOOoslS5Zw6KGH/vIv6uHhsVvxNP/9EL/fz5FHHkkymcTn87mtgkFt\nB2Ga9uQsS1oMP3g4FhYqKoPbDGZw28FIKbmgxwUIRZCbm0vfvn3ttX8KCpg0cRK1m2uZO3cuhjNR\nTAjhjUzy8NgH8TT/X5BLLrkEgClTpgBw2WWXYVlWo7X8dxemaRKNRpk+fTp1dXXols4T/3yC4ubF\nPPbYYyiawkuLXiIQCKD5NRZWL2RTZBOPPPYIFhbjZo2jOlJNQk9gmia6rrMpvIkhE4fwwAMP0Ldv\nX/r06cMrr7yy2+Pu4eHx8+PN8P0Fqaqqonnz5qxfv97tdJ0yZQrHHnssN998M0888USjGb5Syl2a\n4dt0YxEppbuwW+q3ZVn4fPZCbj+1i1hTVFV1WxCpsH4taJqGpmmUlZVRWFgI2K0fb4avx+7m557h\n65l9fkGEEBiGwaZNmygsLETXdQYMGMDatWs5/vjjXX/r1q2jTZs2SCmRUm4hXDNNLVszu4TDYSoq\nKsjOziYej3PJJZfw0ksvMXLkSB5//HEmTJhAVlYWffr04Z133mHAgAHMnj0b0zR5+umntxpmplsq\nPqn32VY8fiqe/+s9eyLMVH6kDiEENTU1bNq0CQ+PfQlP89/LmDlzJgcccIArZHRdp6Sk5KdvzCAe\nj3tDEn8mNE1DVVVWr15NYWEhqqoihGD69Omcc845ezp6HvsRnub/KyQl+FO29qZmGSuZQPEHHL8W\nSBAZ6/Wrqur+NgwDTdPcv24YlrXNNf6bXjdNE0VRtlmhZA4zlVKi67prDlJVdbv37mukNH5d191W\nT2Z6e3jsK3jCfy9k2LDfEo1GiESiDBkyFIlEtSSmUFAskApg6gjVD4qCAiiKiqppKKq9hSOAqglM\n3cKQJqoQoGhYjq3eMG3TjbQsDFMHFJLJOEIo2DLfrnxMyzY9GUkdxa+hKdiVjVBIJhMoSkrwSRAK\nEvCpGqZpOvbxAJrmw5IWmqpiIRGAZYFI7Q9n0ajykAhQBIpQQdjhW5aJlCZS6lgm2LMUBJqiITQf\nfs2PqmkIRUUotpnGQoBlYpoWWElMC6Q0kJZEYoGUWBZIaWJaFlKaWAg0wEJFUQWqooEQCKGABKQE\nJJbUmT9/HpYepWu3bkz7zNP8PfYtPOG/V2IR8AexTEGeqjH1d3fyx4Iww9tlcdcd9/Pb886mWcfO\nWHqSN594iuycIEs730TPgnrMuc/QvqGG4zashUiE1w8fCtLWVr89uoz+X3SFpA5Hn8XM4h5Me/82\n3lq0nLv7XMeEP7bl/oX5ZE25hZvvvYuahiimrvP4uDFkBbJ57KZryUJwzZhH8TUvYMCxQ3ji/ju5\n67Gnef2pf/LFZ5MxDQMJ/Pa35zLhkOsoyPIRD9dx9o8vUlpaRGGuii5V1qytxjQsrr/ualqUlnDv\nvQ9Smahk6rEvUeArok6v5bTJ19L6yrVk+3JY/o9iLEun74ZyBlesJmbBc/2O5U9/PJMb3stHBHI5\nTP4bTQ0gFIUjArP5MtaPZHYDG8+cQaFRwAZ1I52eO44z//w7fD4fuX4fTz/2LyZNegUtS8OMWRzc\nawBt23REqIK8gUO499yj+GTqF0z9bBaKkOTqG+lX1JzFWfnEdYNVS+cz9/uFlLRou6cLjYfHTvGT\nQz2FEC8IIaqEEPO3cu06IYQlhGiW4XaTEGK5EGKJEOKEDPf+Qoj5QohlQohHm4blkSY3pxn19fUU\nFBUhNEHDKpXLupeg5eQjsdiwuZrH7rqdT99/h9bt2zPffxHzWlYwbf5MDup3OLMk3C6gzTsT8Pv8\nqKqPDlm11CarWNbjDHya4K1lbRlcU0Hv4OV83fkADuim8sDiGjCXogiVunCCmfOX8/WXX6AJjctX\n9UQtbk6tmc31t94KpsW6ed+Qn53F+MfHoaLi9/tAgKIIFEUlmtQ5r5OC6vNTmduJVauWU7VoCubS\n9zj5pCFcNPIKLhhwByd1uIJzz78YM8tg5bBaJg78nOcHvEmy+WY2+1dT5G/BuAevBwRf5q7jb8dO\np8tjQzi0QxVTPp1G55V/A5+kMC8PTVEIVC9g8Ig7uarnOkBQNSrJ0iuqKVWKAJXiZkX4AwES0h6t\nFAtFsGImigBDN0AIJIKN/lKCubmcMmwIVm4hUkhOOfdcmg85ik0bawkGAqyv2IhuKVRtKNvDpcbD\nY+fYkXH+LwEnNnUUQrQFjgfWZLgdBJwLHAScBDwl0sbep4GLpZQHAgcKIbYI08Nm8BEDOGrwIMrK\nlqGoKvHP53DzhDBRQ0FVfaxctIAVPy5CJmJUrFtPV/8i8ufNY40oYeG8xRzYtiMvv/Y6EydORAv6\nKG3VghM+/pq1638gN9EWzRcgOl/nuf/kcGILA7/PT5cfJnJOszCFMyYgVI1ILIYqLH4z8BAKCwv4\noCDIC7fmcNWMQlbHQuh6ks+mTkcIgV8N4FOVRh3NqqohEmFiiSTHtlKwhCA/P5fv1sKnqwJs3lzN\nm6++Qtc2LWkeyCaaNFCExgkzB9Iqtw0XzD2VQE0LytdVc4r/GiJRnd8MPpTpA4t54KLNFPBfdEuj\nti5Or34H02nVHcSiMX4nP+bwwnLw+Sk2loJUkNdVEwuEKK+sRFEF3305Ez0apmziW6hCoBuGG29L\nSlAEQiqIWAghBNnZ2UhpYZkSHxIh4yAgHItjWJJ4vA5dT+7JIuPhsdPs0GgfIUQHYJKUsneG29vA\n3cBE4BApZY0Q4kZASikfcPx8DNyJXUFMk1L2cNzPB46WUl62jeftl6N9Zs2axaGHHsr69etp3bo1\nFRUV5OTksGrVKkKhEEOHDmXmzJn8/g8XkZcVICFNTjphGEnDh4VFtk8QT8QQCEpKcqnaGEJVVVRF\npUPnzlRWbCTgs0efSMsiOyeI5tMQQkFTVSQSaZkkEiYJSzLgkF7M/vYHkskkhqlz3og/8uTYsQTz\nmzHwuKGE4gY//rgYf3gzDaEwhmjGyl7n03vJ81hYRCNhhGOT1/waup5ERUOoKtlZOSiKxpfZ3dlc\n1JFzqz/Dp2m2yRwLKQW6ZSITkL1IJdHftuHXBquwpIVq+ciLlSCdDlZNU4jHYhhS54PmC7jV15LF\nG9qg+fx06dyW5SurKCxqhuYPoAgF1YyRQEU3EsxZO5W6jZvJKy6gV4sj6dq5HauWLUbx55KMJ4gn\nYnbfhmWAUFAVBRQFKeH+u0cjgNvuehgJ9O/bnZatWzFp0ieYus5XX33N5uoNxOMNRMP1e7B0eexv\n7JWjfYQQpwHrpJQLmoziaAN8k3Fe7rgZwPoM9/WO+6+KDh06oOs6ubm5rFy5kg4dOvDJJ59w3HHH\ncdNNNzF06FAATEuiBvKI1VTTEGrAsixqajZTWFCIaQnApL6hFlAQQkFVVBYtWIDf7yemqvg0H5rP\nhxkyUVTV7ohNdVRazogVKZk27b9YpsQwdQwjyb033UZxcTPqQw1Mfuc/YOlYUmJJUAVIJUyHbx8i\npCooCKLRGIFANqY0SCbimAIaaqooLmmBkTRQVJX+kTmIzXMIKXbvrikt7F5eaXdMKxDqAkoIpFRQ\nGgIIy+4WbqAWaVqY0kSaFtIyMDHpszqHr5oF8CkNaD4fixYn0PzZNITqURS7o1Y67yktky65/Vmw\n4hs6tu1NqKGWH76vxo5GHMs0MaXE1HUkOB3SFhJQULjq2ttQFbvixDKZ/vkMkPbyGKFQPXX11fiz\nckgmI3umUHl47CI7LfyFENnAzdgmnz1G5qSbzGMrHveatWeuvPJKTj31VKZNm8azzz7LiBEjGD9+\nPJdccgnPPfccUkoGDRrEmrLFezqqHrvA3lLOPPYPtiXbdtew6V3R/LsAHYF5jj2/LfC9EGIgtqbf\nPsNvW8etHGi3FfdtMnbsWPf34MGDGTx48D7/cb311lsAXHDBBQC89tprALz00kuAranW1dWxceNG\nunfv/j8/75hjjuHzzz9n0qRJLF68mLq6Oqqrq3nuued2KTxd1znttNPo2bMnnTp1onnz5gSDQfLy\n8ggEAgwcOHCXwp05cybdu3cnNzfXHTsvpaS+vp7Vq1dz2GGH7XSYNTU1RKNRHnnkEbp27UpJSQnN\nmjUjEAgQDAbp16/fLsV19erV/O1vf+O3v/0tl1xyCZdeeimhUAifz0dhYWGjHdk8PH4OMmejz5gx\ngxkzZuxSODu6sFtqRDZSyoVSypZSys5Syk7YJpx+UsqN2Pb/84QQfiFEJ6Ar8K2UcgNQL4QYmLIp\nNQAAIABJREFU6FQYfwbe394Db7zxRvfYmuBvWitu82AH/e0FRzgcprCwkOnTp++W8N5//32GDx/O\n0KFD+eKLLxgyZAj5+fm7HJ6maUgpmTNnDkceeSRz586lY8eOVFRU0Llz510ONy8vj7y8PCKRCLW1\ntWiaxsyZMykpKWHGjBm7FGZRURE333wzc+bM4bjjjmPBggV06NCB8vJy2rdvv8txbdu2LaNHj+bC\nCy9k9OjRnHzyyZSWllJSUkKPHj32eBnyjv37aCoDjzjiiEaycmfYkaGerwNfY4/QWSuEGNHEiyRd\nMSwG3gIWAx8Bl8t0jEcBLwDLgOVSyk92JIJNXzrzfIcSay/IsB09cnNzGTlyJH/96193S3h33HEH\n559/PnfffTcTJkxgxYoVXHnllbscXjgcJhgM8tJLLzFt2jRGjx7N22+/zWmnncbYsWN3Odxx48Yx\nadIkbr/9dlq0aMGll17K0UcfzeWXX8611167S2HOnz+fgoICxo8fzwcffMA111zD+PHjOe2007j/\n/vt3Oa4jRoxg0qRJXHPNNdx8881s3ryZSy+9lJNOOolOnTrt8TLkHfvfsT15mHLbFfbqtX229ZKZ\nfzNH+7Rv336LsE58M8rk8/eO0T4eHh4eO0pZWRlZWVnuaB8hxBb2/qa79+0Xa/tsT/A3/b2tWrKp\nfw8PD499Bcuytinbttbpu7Nybq8V/plsS9in3DKX2N3y5m24e3h4eOzFpGRaU3mXEvxNlyLfWfZ6\n4f9TWn4qcbYl/KUn/D08PPZBMmVbSuZtz+yzs+zVwn97gj91pJY+3qbmvy13Dw8Pj70YKSWmaaKq\nqrtx0NZItQB2tiLYq4V/JlsT+qnESQn+1NaCje7bhruHh4fH3kxT2aYoyhZ7cOyq4Ie9eLTPuWed\nTm5BM1avWUdOdhYICIXCSGclRl3XycnJwTAMEomEvWY7KSFvr78upUVDQxghbPOPIlRnSXYLVdVQ\nhL2QlxACn6YSjkbRVHuPVtMwkUgUoWBaFqqiYkkLkPh8PhLJJAKB4vTABwIa8YS96YqUEsM07EGw\n9n8oiupkEq4fKS0QirNGvB1ve+UDScqjwF4kzc58gab5MJyFyKS0l2lQhEBVVXRnglTqvkAggM/n\nJx6PYRiGW2EihPOYxlsX+v2BRguUCQGa5kPXk058cdKS1AoN6fexUx3shRAyBgC7SeCGmf6tuJW5\nogh7UbWMpMA5VVLPTAWaWc5l5k+Zyn07nk0LVqaDyDy3X0RRFAQC0zSdjyn1vHRg6fyz805gr2Jq\nR10iELaW5qxsapr2aqGKcN4PsCyJULYSQZFKQxx/ppuWqefam+RIJx/SiZUSAEIIhGIv+2FZJtIy\nAfvdpLO0hsQuj7ZfOx5SWvaeBYChJ5yw0/mpOJsv2Jv8iHRiuPks8Gl+DCOJEAJF0TBNHZy8E6RM\nFE3yRoKiqkjLcvPVLg/2/gn2Pg4STfNhmgaqz4eh60jLQlFVt8ylNg5y885Z36qxXVxx0s9wljyx\n39ky7b0cNJ8f0zDdeAicTZKc/SskFkKo5GTnEItHEUJgWRJNVUGxy40qFHx+P+FwPXl5zUgm46DY\n+04kEgk7H5xy4nPeBQHFxcXOe/qdsiUIhxpIbXiRnZXlLkAY8PnxZflRhUJObh6K5iNcX0dDQ4iv\nZny+74/26dipO9P/+wWRaITmRc3YXFdLQziKqigk4nGysgMceEA3Oh1wYIZASQtMkfowpEAK3E1E\nhEz7A4kUW9xpC2SkW6iFIyzt09S5cAuZaHoodgEXKI7f9E5WQsj0Y1JhSoElU8JGpv/PEIaWTG12\nYldAcotz7DeUztyGVGipc5kO2V5YLR1G+txNFmyBYjmT5CwyPtd0CywVYkY8pRMX4YaTkpoghUCk\n8uEnS0BGh37jYH7iDsAVMk4+wRZ55O4uJgRSCOzVihT3unTyPxVXkREuzlYybh41fb7MqAa3FmHZ\nWMjvCBLFjqsTpuL8kwKnDG89VVP5ZMcz1XK2wDmk65b6bpqkZ0ZaKkJBEfZmOSiKW2EqQkV1ruOm\nq+IcEoQklROpEgj2NyoRWE45EVvt17PjKbAVnVSRsou1dDblgfQ34JZ8O52dMm45ZTylUKTyTWam\nAdjpkvk9peJK5qQoBZlSDkS6bNHoOxfunaJR/rg1nPMrHY/MlJdYTr7Z8Zj7/XesXbuegvwgPk2l\nuEUpDbXVHHBgNxTVx5qy9Wysqdtm+dkae63wF34/dbUNCAViiRj1DREMQyecjNOieXPisQQdOnYi\nlXiuRgqugJHYH7bEEboSpKPdZKoejm6Dq+XROPMy/7pZ2ESA24cjQJzrQjS+KoTTPHM8pK6kPo2U\nYE7HPV0BKM6Hk1abUvFUnA8gJQUyP6/U+1mEaqvJzitEVRXsQmqrbG6aidQHY6uZ9p+09rtlAzEl\n3mTmqRO1DA2+URG3z8UWKu/WSL0fKFLuxB3OW4vMdBcZeQF2Xiuu4E9/2hn51VQSNrqergLcb9l9\nR+FW6HaFt2XMBa7E3nEaCfl0DLb8vcVt6XxBuoJIpg5X6KRU+MbhSCf9ZCqtRDqthMisMBWn0Duv\nnqpEMz4WgZLx2WVoGu57yYzqIVUe09WkEPbua40qOylApJQTgZDCrQCEU+lIp7KVIqVUpXLJiZ+0\n3PJLZotvG3kk09pAo/S3X9+RJVJJ+3HDTb+ndBQIkYqT4y/ly00J5/behxzChg2VBPx+YrEYtZur\nyA4ESBgmZjwMmoaUO2fe3muFf15+EUXNm5OMhZFC0LykOWvXryGYHSQcihLICqSKYKP73CLsJqrj\nKNMfbepH+mMVXHfL32neuhXhhgbuu+Uu15OdoelKISUwBII77ryBwsJ8qqo28Y9x/yT1bYiMcFPa\nZ7rFYMcrEIty8srFTOw1ELfS2ULCZghypyAJaQuUVL2Q/gDSn8+Fw8+lZ69uJBI6Y8Y8yvX/ftUN\ncWpJKdP7D3RNN5OaXZJ+RhM6106nu76YVMX1j4fupS6mg7RX+rSXQbawJPhUhbq6eh79x4N2i0LQ\nOGcE9I7Vc1X9JmTYIJ5dzDVtSrC28n1l5mm6cpEZsli6V5pqZ6mPPOWgpPIwozIWwhZYDYFiPu31\nVztvFBVVQFAPcdK8Zx0xlan920LPMBIUFeU1zpuMWNXVhRCK32k9kPHRg8/nY+z9t6KqGuFQmNtu\nH9s0l92AItl1bG5enuEkGoXVfl1P5x0Fjb8B6f6feU9Ky063JtOltIse5eQf52BZEiwLNTubxw8c\nlC67jvfMelIIaNu6OeWV1Yy99zoM0yQQCHDTbQ+DWxEojZSkzJwVrksqvulUiGbXUdNnKSBQheJo\n7xJTWlhOCwApafVln0bC0v6m7TgXFQa5ePj5tGrTkhWV1bz2r/+jrj7UqFCmPze3KnArxcyYNk7Z\nxm4iw++1V19C504dMAyDOavWsW7RYv775WwnvPQ7u8oo8I+xN/Hpp5OZPn0ap59+Ds1LW7FgwWK+\nmDGr0dMkAtO0yMvLJTsnSDzWQOuWLcktKuWLz6aA4iMYLGQza9lR9lrhr6kaKgksS+LzZWPocdq1\nbkc0FicroBGOxREIVCfLPvzTP9I3S4iG6lh5VOOZvZM/mcKUT6e7tbwA7n3qURYsX015VKd85VqQ\ncN7VV9O5YzvGXjs6I9NcXY8Hxt3J0Ac0znhZMmJQlOe+KeaUwX/n76fncMuN97gfpEDQsr6WU5bO\nw2dZYBrkHHUUkSlTEDlBQJLXujmhyhpHgDcWJinTlRSSGYMWkzOwlL6PFWV8kGnNSAKnnXECZ9f2\n5+1KYIMFaIxaXksgJxvtnXeJDBvG0OoqPhcqIKmI+0kUtWXRBQ3OeuGCrKwAQgg6PCn5seQiui8e\n7WqLQvMRjUVIJHVS+/WminNUQigadZUdITNklZQ8v3odTH7PFQQ5wLOWZPWZ93Bfq82ZKg8jbrjR\nDXvmf6dz02UXoyoK/3xjAt169XHeHV64/15X+H/4/ttp7c2NV1rLSlUTZ5/zZ0cwCz7teTFI01Yw\nLQMDqMfPm32uRGDx+wX/bPyZC4UePTq6NmRFgKqAYaUFSauWJSxfXpG6w737wQfvdVt9lgU5uXk8\n9NB9CEVy7bW3NhL+Mw+bSEXpMrbHnH4fctakG90KTSJpPXopBcFCAiIHC5NwvJ6VY9qnVHGnAkin\ni5AwctFX+BzNVBF2i8mKRRn1/TRe7XMUDVogU+/hsYfvIK4bPP9ZhHveric/R+H9qysRCix5uNQW\n/Eq6hnBbuqm0kJLb5Qv8N68XM0IDHcGYfnsJlJ0/FUVClppFjpZHUMtBSknMShA1o8TNOLqVRHzR\nx1HyBKZhMPyqvzTSnzbpFptW23lx0fDzeOTxFxq1Tt/+97OuVu5+a25uO/ERcMZZF7nXhKNZNlY5\noPmZw2nXtjW6rmOaJl2a5ZHTtT15uTl88PGXbHkHDDl2EB9++CHv/OtZRj8wjoP69OW1P/0ZccyR\n/OG8k/lm1nxWrV7r5lkwNwefz09Sj5CXl4uiwFfTpmMYFppfpbR1O9aWbbHh4jbZ0YXdfnGq1y8m\nK+AnEoli6DotmpcQTyZRhMC0oGO7Dm7BEkIgwzJ9RCQ/HGr7Sx2GhW07zqjQr39wDN/OXUAsFCIW\naiDaUE+koY45M2dywam/5fpxYzNiZGsmY8fcyPzV9WwusFhbqHFXWZCKIoWJlSq3nfI4t9yWqjDs\n/wYvmo3P6XgruOgi4gsW0vrNN7B3IRf8MG8eqQ7KVPM50zaNYrtZloFlGYQPPZ5N59zcuMmtCNq1\na8Xv1/fFH7WQDZJlx+goIYMne55CQxISp5/pvkkq7OXH305pieCIj7JhFWSfcB66olJZtZl7jpO0\nKEp1fNosXlsLqkp5TZiFZRXMWrCMT2Z8x5sfTuXlt97FjIcRGf9SFeZjy6PIj/6DNE2EqlJ24aWE\nTruUdaf8nQ4TbuGiuoPdexQhiIZDxMINnHxIT2ZM/oib7rqP+x55lNVL5nPagF7EIyHi4TBkPCs7\nO5tbb7mVYDBIMBgkJxgkJ5hDTjBIMJhDMBi0NUanGTDh0NGQYfsuu7AFGy5qyfoRpSjSQkp44+DL\n3XcAga4nWbduHevXr6dm43rObzmJi7vNZUTX/7Khcj3r19tHPB5tdN/d993FjcMf55KTbrfLqwqJ\npOQ3pX9GEYJx4+5ulF6VndOC/7r2d7FuSIzyIQnWDYlhmBmC0jWnQP7fv0b4TQxTJ2nG0a04UrFo\ncdNchGsXtwtlql/mlO8+IaHrbvF2O5Cdv3+a+zmK/dWk4yfgujufp3/xSgrzFVQV/D4I+OHblbpb\nLhWnMknFMNX6UhSFvzecxVGhhdzSYx6WNNOtZafsW0kTzVRpphSQ/0MxZZdGWH1ZlA2XGmj/ySdX\nZoMu3feXCBTNtxXTZJqOnTq45ppUkZaWpMu4Xhz80SC6PNmHbm8NaFJ+gihO68U22aZNVelK1P7b\nEGhJTk4OOTl2WSssLKRdu3aszetI/og7yb/otkbxkUi6HdiBrl278rd770Mxk8ye+SX9R19Lz759\n6dShHcuWl4EUKNJWpnyqRcWGCtq270AwJ8i68k0kdAOJxLJMSkpabjsBtsJeq/nHI3Fqa2Mc2m8A\ny8pWsWLlSrKzc4jEw+T58wnmZLvmOSHAarALaeV1vWn10Hx8/ixMCX6/j0Qi6TbDXeVQCL7/bo4T\nhm37XL9uHRPfeBUpLY4aegLffzvLviZSDTc4+944i7N8GK1DKPkC/BIzavLk3/px37g59L3C4LzW\njm8huDFYwguxGkzVRzQ7hxYTJiANg5ZTpgLg+9v1rjnIJm2zRAgOabWBFgVJpuo6eiLOshVrkM0P\noYXd3efaMV9pdr6dBoptI6+Macw/McFBtQNoEBoYBnl+H9cefSI+52MryU1CnmTKCVmY0oc680NU\noG3bUs5vKXmjMm32kBJmfDKBQYOPQVH9GW1mu3LK9il06NipkYYDcEZ5EP/H4zB00w7nt3+lmS/I\nxkAx1Vl5tNIlA16+iP+75nr3nnB9HReccgL5+QWMuOgPXHbxSASCs39/HsFgDn84/hiefftdRIbu\nIqXk0ksv5cEHH0RV1UaVluvHsnAljZEk9fFuGtkOQ0qaPb2GiWeUsvEvrSl5Zh0SCGu55JlRAGKx\nMKFQAwCdSqBQUXj+03JqKaG8soKUXD7uuBP54YcfAcgN5hCLS2KhJCsWbeTYtpe6gtjvzyFuShpC\n6ZE2mawbEkN1dkoDUFHZeIJO6cc5qP70yK76HgsICJ2YEaW2OkpxywIsabG5qg5/c4voXyeR/exv\nXa1XYneAXn3JgbzwwnI0oMuHU5g8V2FYX5PNbx1NXlBQmAuPKJO55pOTSPVTWJbk88TJ9F/0Bc39\nASKiwBHqcMMbNRyVocAo2Ca4vE1fcXXLMoTqA78P0aYZItADFMndh6zgxpntCASynXRRMJMmfr+f\nzeMsyquqMJJpW3bVVJ1OZ+ZSq9u7pjXqJdjOkMfVGzdDKscdL5ZlseGulXZRNp0+A63x/fYcocxa\nJdWStFFSFXY4vRWoqqoEAgFisRjHlphMmDeNpa2PJF+kTVwSUFQ/9XWbUFSVqG6g+X3kZGdTG27A\n7wvYW6E6FgpFQEFBERs2bGDJkkV0bN2GTbVxNF8WzVq0YM2qhZjWdmq/rbDXav5zF5UR8AfILy6m\nfft2mNLCNHQKC5tRWFTA6soKR5VwOqPqLWS9Rcvbf0DWWxgmJAxJKJogaULCsFL5CwJ6DzyUcH0t\nodoaams2UrZsGf95+QXOGz6CZDJBx86dCdXVcvU9t7pxuu7vVzJrtU5MCWH66jG1Wq775FE++kt/\nht03hRlVOiE9ypFHDnS0GIWcZsWUTv6UNp98TO8rrkCaJhddcgmmaaJpGnffckOGxm8fSsYxwPyY\nw5iOocdJxMJYSYkesezRKqrijP0VrK9QkPUmstZg3jlxBj8fpWxdOdQmOfLPU+hz4X/5+rVJ+J1t\nDoUQ5NUuIr9mCWe9tYjfTVjGWW8t5ez/LOGctxfzp/8sIq9mod1x5bQwBg87m6KS5piGgWFJdMOu\ncNuUllDgg3Xr1hDICuD2dQhBt8oOGLqJqZsYukly0rMEXn2A1i/exKJW7YgbFnHdojirl/v+oZoa\nzrvwrzz51KPcfN0NvP7Ga3Q/6CDmfDOTCy4ZwcEHdydcW+s8A6e7RNKtWzc0TcPn8221TFkyZc1V\nOPHbh0Ea9oFEEwKfYnHOxEpaPFPmXpvY9ffuuwwePIiamhpqamqYv7KGWz7RGNC1mNEFE2jhr3Wv\nDRp0KCkVc9Q1N5BIWiz9rgy/VPCj4Bf234BQOK3TFSSSkmEnDEu39hybvCrs4cEtXg2waPMC4kaM\nIyb1ZsMwe9ewlP9k17XE9SgRI4TaTCeUrCOs1/HX1g9yb4uPefHg73n0kTvIDmbb9wHf9awEy6Is\nkST/8qs4c6zG0x8pnHafD07+kuLWWahFAXzNAm5rSQi4975/kJensWFTNUUzziI3T1BQoBDMFviz\nFI4e3Mcd/pwaclpffDg3NZzBqJX9wOfHrFmH/4JX8f3ueZRmXRl7RAXJRNzpNLaFv2IINi9pIFIT\nJZFINDoC0odlWI1a/kIIglmBbcqT6oawG35qBzxbsDtx1ZQtBD+khH9GZ3+qDyX100kXf5N7VVWl\nsLCQrl27ctXJgwioKQOpnQMCwezZc8nxK3ZLU0AoGmZ9eTnZQiOgaXY6uk+2aNOqDYGsbOrqwixb\nXYUlQVE0qspXoKkq3878YJvvvzX2Ws2/bctiFq1Yy6xvviGQ7cc0TXTTgEQMoao01NZDpjYfkhkV\ntMS0DKRbt9kXrAy7z0E9e7Bg4QJee+EFLNNwM/XFfz5Oj169iIZCCAHVqUpGgGJEuOy4CM+uywI9\nyQ1tgvQvW8B5I68HNYllxrjihCS9+/Xlq6++R0Gg+bMAuPPOOykvL+fOO+9k/PjxGIZB7969+eGH\nH7ai9Qku3FRBQAj0HBMjIInRgBVT0CKSRK20xx877xXw+5H1Jl9fsoknJ1fz3CSTr89rB+Sy4KIo\n8SQc+lSQt+b6yFGEY/9S6Dz7XXsopWMLPvmcs/jwrQlup6CUll25Op3LiqpgOmmoqQo+n0LL4gLO\nOOZQNPUYkrrB1+3bs2rlKndWdbRlN0xdukNshc8iaYIlTOa0P5DTLFuri7Tri7JqCQAN9TVccv4p\n3P/gI5S2bElV+VpGjRyBPztAXE+S7ddoqKtp0mJKY2TMd8gkNUtSEQIrt9huCQDFT66kelQXNl/W\nCYCkKWn1zKp0bjjq4pAhR/LOO/8G4Jh2If5S9C2vTc+jT1fcMfwAublBV7tsCEVRVRWfq5GKRn+w\nQNctOh/YDTF1CqnOKMsxt0SSYSwpOaCoG5a0+GDo5+5zUiKpZNIwkldOwhQWSZFAQeXukslk+f32\n3A7F1k/vuft6xjzwFBurNtGgRLBMi7tHdmP+GWch59mmIEtKfv8PhVnnK6SGPaYlkCAU0SksFXyx\nMMnV11/Pq08cQuScuWia7X3RouWuMpOaB+HTFEY2/5jSwigyLsi+YRYFf3mZ9q2CvHrR+XT/4WbG\nHFnJnd91BSySsQQx4kRDBqo/o3XnzI8wDRMjnta0hWPG6lxazMK1lVvke9nMr+l02G+cEXMChO3f\nnhu0faQ7s9btBUj/zGjn+tUtS6KqqiiKYue/LzV/QICjhHz99Q/07XUeZjSGkkigaRrZQlJvJtBl\nSjN3uu6lxBLQv1dfvpg5i3gyhgBK23Rk04YwQlFIRBI/+T6Z7LWaf+9e/fjLxcM59/RhtG0e5IyT\njkfTJNlZ2QR8GmqqxncyQNZbyAYT2WAhGywGPWZSH4piWBBLJGybf6rjC8GXUz8jXF/HaWefxbEn\nDkNPJtGTSUpbltKte3fCDXWE6uvQ43EnRoLasMHTH2VhhuKYNSG6Vizhgh6/oaZDT6yGBFY4yT8n\n+pk25TNSY8iDjmC98847mTZtGnfeeSe6abKqrIzaujp7fLFjC00dfx5+Fsxegn9RGfGNMfSNSerr\nNxGL1pPtCxLZaHH1VRegCBVFKCQSSWRIcvjDzRhxZJBHZndn0D9yGfSPXI66o5K3f/BhNVic2aXG\n1q4V4cxFyGxpCJq3bJnR34Bb6FNulmXRqihI+wKVjcvmElq7jBwSCAGhUIg1q8vIalbiaN5Oc3hd\nMXrSImlYxA2TpJEgbhm8Oq2SlXntiZsGcdNgY3SFq06F6+u45vobOax/byzLoqq8gtvvHstNN9/N\n7NkLeePVfxOqq3UtOFtv6G9JSvgLIWhmRcAywDLoUqhS8s9lFD+xlNxHfsSvCrsCsQykZbr3ZG6i\n/U1lHmOrh6B3PIbR64ewbGPjZ6VGePkDOeiGJKBojbR+vxD4Efgk6KZk9qxv05o/tjnBkha5gTyq\nL0jiV/xkqVkUZTej/dstnIfYz1CExobyBpJGnLgeJ6pHMS2LpK6jmwZJXefDqVNJ6jpXXDkcAeTF\ns9yx9M9+8waWI/gl8OFthiP4ITUszJH9mIZJixYavzHe5rXH76FL9y4c8v2JBOsX4gut4JRhQ4hE\nou67SGlxg/4cpckoAguRozmmV5U15REmfleGLJ+PNBPuPfFYgvpwA92eLiKRSBCPxzFVg6SeJB6P\nE4vFSMaTrtadKqObqppkAnaH7Yej7P0xLHfynj2Zr/HY+m2UGSc30+GldfGULBcI1G1IUiHsCZia\nSJuoUiiqD4TdctfNEJZukkBFoqL5NMc8lz5at23HwsWLiMUayPJnEQhks27lAkINtYRDdY4JasfZ\na4V/j0GHU1NTjSEtOnU+AFXTOKBLF6o2raFs9TIaQptdWxhCOEJfUv/+35BhDRkWbKgJc1jvA0Dx\no5sgZbojsmJtBeH6OkK1tSTCDRQWFWLoBj179SISaiASqifS0MAbz4934/SvZ/6Pc/vVkhWRPNmx\nnAu/MQnndceqBrPa4sIudbTMMvjxxzWu6aND23aklqM4dsgQFFVFAd5/7z1WrVqFBHz5/rRAVmwh\nG2sIEa8PoW9KoG9IkEiGicfrSEYUGjZaaJot+G3NQqNPUQOxGpOhD5ciw9gd3yHJplhHjutQgQxL\nqlbOzTAvicYHgoLCPFfDSwt90r+B1RvrWVNnUHpgX/LbH4jMKmBtZTVVm+pIGhZ5PsWdQCWE4JtW\ni9FNi1BU57ELm9kzsnWLCes6E9Ny0Z0N2ouq5rgtrHB9Hb0P6sh7H02lX++DeeyZFyhp3pxhxw9l\nXdkq+vQdQLi+jsyKaUdmAtjLfKTfLdXZ++0fO1E96kB0w+TxE0oB0ESqM9h0WpCCUCjkhhVOwPfr\nBB/Ni7K0CjKVyMWLF7tp+vhDd/PD1FmM+XwMRkOCgLDNPdmaRudubRn35YNIC2bP+c6JW/qTbPtZ\nFivrVmTM5IUBb/XFLE7Zu1OHQsd3LyQSTlCzuYFIQ5R4MkkskSAaTxBLxDnisMOIJRMknQ7ew5a1\nJzVR7fGlE5l4q8mEG03evSlBwbpznKeltNzMTnyFu4YVkDv8Yw7tfzCbgqew0XcYiZmP0+fQg1m1\nah2JRNyt/G5WXkSqghvrzmJ2JAeRY480q3/uAmqfu5Dbzx6ACOYQyE7lpUIyrlMfqmf15rW0eShA\nn2da0rAhzAmv9ELXdeoiDcQdpSyzjL7+5sQt8vzQ8qO55MtvmT/qfM4680RSnc8IgWH89Lh40zTd\nKTQyNRfGfnKjIx6NbTeceDS6hZsQAlUTEA4RJBuf5kO1GsjPLyC/oKCR4DcRvPvu+4RiJqqWRTIR\nI5mIuUNcbbmxn4zz92UHWb12I7O/m0WrNm3QNB/ff/8dpmX3fFsZGokUtrBDQt6hDyHr7ebPe5/O\nZ9rsZegmkBofjCA1walV8xZ8+MFEuh3Ug759evPBpEkkIhG3oj+4x8HUbqh3YiRQNYVNdGRGAAAS\nH0lEQVQLh/nI/3wjN3/WBpM4wqeAlcVRLQ3yLZ2nLq9l8ieuQdCZCOloztI2SVjS4oqrruSLGf9l\n6dIlVNXUU5pd5L5769atWbkpRCQrQW7IwEhIZE9IJBswRHNCNZJAVhaKUJBCoiqCfrEXmZschZlM\nm4NSDLmrLU8MX8WcL8vse9zrKd3COZOpjm1nJEVGekkp6N62iNE33MKxp52LoviQQqGyupbazRsJ\n19bRr39vJn4wkUP79Gft2vUAbOg6i2fPOo8RE6qpLpCEwhJLMXn+3M1YQpAw4c/L8xgk0uPzow31\n5Ja0p3tXi9fffIvs7BzqazbxwYcf0qFdKw7qcyjRUEOjzr3tjfRIkZr6Lxxtrf+KD/i+80mUPLaQ\nt87qSN3fDsICCh9egKqkw061MEpLS1m1atV214oSwt5QI3WfFNBv6EBeHPUE/yp7ihv6/h0BGHGT\nS1+8CgQkIiHHjJeRLQACjpzTA4B1x8ZpPz0bWZx+0Qz9E4AWr/zJHcbfcHWUnGw/8v/bO/Moq4vs\njn/u7/X2ummaZm0FBRU5SEZHUYFxG6OCuAx49EQ9OmMmOcYk4pLxzII5GnVOFvXELXocM8BM1Ggc\nTTI6CC6oE5XMCBhwA0WQQaWBpmnovV+/fu9380dV/X71XoPSKovdvy+n+P1e/ba6t27dqrp163YP\nxgSjISoBt//0XtzuUg0Etes2Rz/6XQByW9rYcn4X1u7HnP+YTmzrtgOawQHpilJqvvckNXllUJBj\n1ZqPefaBO7nusdtYunw1BClE4K/WTWPMuIkMHVbJoq5LOH7HI2T//YzItJhPCWRLuP6F0QyuMbTk\nunvoCZVspof29nZa0q2EqTyLr3qTnp4emlp30tWZASfLYmR2a8POiBfbn7uNXKaRBxqO5vBD/5mF\n9fVcsXIBx42sYtW2kSC7Nw8WyIwL9+Bv+BLfm81cyj39AJx/x27f0/3UvZSm4up1jkPlFeXsLC8j\nlxNShHTnB5PO5fj0k01RO3U1ngrSlFWkUUnR3rKVMMxz3jkXsfiF/6InGxIEfVPnn3u3iCwAzgca\nVPUYL/9a4GogByxS1bk2/0bgz23+9ar6os2fDPwbUAEsVtW/+azvNm/fwbLlb3DStKlkOrtp6263\ni495KtKD6epqM/Zo90BHHhu6JMITL7Zz1eVxY+nOmcU9x841733IOTPPYe3aD1CU6WedSaarAxAm\nTDiSlStWRxXtGtnjjz3NhReey4LFg6gbUc4Z39zBopVD2JnJMf2sgMWLXjVxSdwUXgLm3PBjRtaU\n8ur/vEbT9p2MHnsoZekqtvxhI9Omnc7IutEFdv/XX3+dMzYvQyVACAlF2IwaU8DZxoUOjIeF23mZ\nrqzhByc8yj1Lv4sZAJgGgcCv565h0eKlpCQgdI1FxS2CgCinXXYVW+u3Mu2CS3jvtZdpa9pO1Lna\nRz7Y1Mzlf3ktrW0dtLR2EObyZLLdbG9rp6ujg8yq1YwZVcfyVW9y0PCDwHL60xN+yM1X3sNND22l\nJ8SYGAJQCbl4Yy1nPHmzIcaWLdNp3Dirh4zgL+b8gOeefQYQZp93AS07t5PpdAue5bY2le3btkXf\n82mPwnlIPFhwSmyStNC64RXWj/02Fz/1UcT/FERholLRzAiamppYuHBhtJ7hOh8/xLgfgdHtdP35\ng3dx3fwfUZEOSIemyUmqlIoyIcxnWfDwzws6skPXfYOPR79X0B4O+W0FxRBrvjB0WxdOMeV54L5f\nMqJuKJdfdgESBISqpOxisvMmO/fdiSw+anUccyiTZfN3Op3rDFc/dma0oUvtIikiaBBQkw4YUiF0\n5mDj2o383YWTaDj1Wpb9/k26OrsoL69AgoAjJk6OzIfpympuab6c64NfMUxzaAA9EnDTplnUDh0e\nmWHyWRPPJ0+enOTI5UJG3D6I8pIU2XzIzrZmurPZqENSNaNyCeK2Puzsmxm/fjqjZi8hCAIevfJ+\nrr7oJIZNuhC3A10E6jfXR9rVmKlc3KRIiiLzjre11zsaDC79bCNKdWDDqUjsc6goQ2qGM2RwJS1N\nzfRoCaFCZWWaf7j9fhMHKBJlJU9IPg9TjzuG1/53G9lcwMuvLbFrF9LnAJafG9hNRE4B2oFHnPIX\nkdOBvwXOVdWciAxX1e0ichTwOHAiMAZ4CThSVVVElgHXqOoKEVkM3KeqL+zmm3rMMd+ivaON7lyW\nmnQ1ks+QKquguqqSTJhnU/0nXHrxZdEzcXyZ2ARgSIv928zBiwUCoEIu10M6HTB23CE0NGyjcVs7\nFel0bPLA+fp6U9NslqnTjmHixAn835tvsX79JuNJEzizh7GtBxLwysvPcNzkUxhcXUN5eYW5HrjO\nwXyjUJhCNmz4kMMPm4CL02MpsUpGCzYtqFiFipLP5UlJNzNmfJvm5hZeeukNqqqqMUHgQjQ094Wq\nEIaohnR3d3HNTT8k7OyhtqaK7836YyZOPtvyNLRhYZRUWSmzrvg+XZlu2to7aWtvp7m1hZaWFtqa\nm3l/6RLGHzGBobU1NDY2RbTZDb90dAXUj7mLliGQGdbJaStuosQGGEOi6qM70xU1vs2b6zmo7mCP\n9vhYVl62S3OP8+gRxO6TMMns9g0oNn0psLo5w3uTLqK2cS3bRn4DRBnU2ciftC2PasbJU+8mU5wR\nvzf2xRc6O9oZ8Wot4WaFP8rTNjljaSByH3Rv6i7pJFPajgJbNm6ibtyYgi/UdA7HD5fgfPddHJ/i\nc/dHjcziqItfY1I26OHFoz6kdeNOWmZn+aS5kjufmwpig79JCrExfIJUwN/fdgN/2PAR//3r52lu\nz1FSWsG2rY2MHn0wilBSWkqQKjEy7kxskYyb75uAbUSOC6ouvlTIloaNbGh+26MBWhp2MGTUULsu\nYTbtnDDurLhebLu4859+xPp1H7Fg/qN0ZQNv/Unp6Gglna7Cafc4RhWR44NZXA2jGVQUGwmiOEHq\nFpolHk6Eqsx78B97yaLDnOtvJXpTFGPI0Dv1xKOZefaZbGtsJJPN89DP5lNWXh7pLKP8Q7o6Olmx\n4vd05+DwQ8fx9jsrQSCvOTRvAlG2NTeyp4Hd9iiqp4iMBRZ6yv9XwL+q6itF9801/NI77O/ngFuB\nj4FXVHWSzb8U+Laq/vVuvqdHjP8m+XyOyopKxh95FG3trWzetJ7OTJaa6mFUV5Uy9aRpxAKFN6rB\n5nkxaSIPlnjk49/tfR3U2QWd2SP2XXYbWJDYlc0Et3JHk+/s3r2OEnjvtDOKyNQb19mSJQuZPv38\nSBtE8u3K7dGr/lG9xm8FN1RMgw9NBxA6Dx8N0dApeI3ysR2D6STyUeOKgrm5ezxl7P45v+RowO2x\nFTuCDgpojzvAWFHE71y+bCknTjnZG117dDrlBgX1aGsJt+geH2MXWvHy3T2xA4HElo6CWikgO5Kz\nXUOigaI/c9xVXCP1rkQ+5NHARfnd717mWyedidK7Tce0e4reU+y+kiFSsFaB2t+9SmL5EHgOARLY\nDsAdUyl7XmJCYwQpE4ohSJkZQlC4rmRerDjzSSRHXlnjlEf9v2AVKq+/uoiTTp1pBjBoAS3m1TG9\nhXVSzBNz7gd6QwuVP2rDqjneaFSj9mdQIBSOXy6OUyCBV+N4FiNXH3GnFjXkAp2kaGjkWtTtJQhZ\n9PyztDU3U107nGxnF0FpCWEuR/XQEXR3Z8h0NNLUsHmPlf8XXfCdAJwmIm+IyG9F5HibPxr41Luv\n3uaNBjZ5+Zts3m6RQghSKZA8HZk2E0Y5hKrKwbR3tNCwfUfBSDz2+TXP33//3URtG7vO7jXGz4J/\nNdJN7op7hz2dN++hOANPkUDh0UtBEDcss8jrj0bt9NqNUoMg6kzi5Bpeyp57nU/gnhHvPIhGb+Lu\nd94+QawU77371sKyFtEc0RgxwI5qPX5IwQ//1lgBRx2pXeBGPBojvsRmhuJ7kXhEH0gcVttP8+fP\nKyxG0fXCwgVecnLkm/vi5HtDIXDPPT/dBb29O5OYXQFPPvVUwTcLFuCL+FsoQ0T5RcWyNWXrLFJW\nFoU6DNDiSCKAMu+hez0isJ21V4ZIvoO4o/Z5WtQepRdfTb1F7wh8Oq2MEte/z5umph04M2pcjsKy\n+XxXIJfP43YNF5fT2LOCApnu7OywTIq/EbVDXwZ83nr6QSi64N2pBbnxALWoCsw9BZfjQUFnx06U\nENGAqsG1HFw3hvLKalJSQjbTSo8NKb+n+KILviVArapOE5ETgaeAw7/gu3aJ8vIyujpaOXjkwWS7\nsuTzWeqGjqK5rZWyiirCniyF/vGmdzT2aeW882bbfI0rxBmvIYr+FxuJvIqKOhErJHETLuw2RJgx\n4xxfDxYoymKhKzQ3uGc8ZSTivdrEg3fFNnm+ycGP6e5o9EYTdiQkanxVNFATB95SGwAqdpHE0jpr\n9mWmLM7mghlD46a+4o1RC0aMkfaJp6mu83D/+UrT7zyc8o64bN4R89uYG1SVUBRwERgFieqvMLyb\nADNmzIj4WqyMbdVFZelVuxIxfBdN1/x2Od+ZfUlxq4/4Fmerd49wyqmnFdS1/5Sjv4CquLBWbh2K\n5wKe1neD4GhoG18Q/2mvt5g+c1ZvQbaK0u+gnLLGm105Ja+9lLr3jNfWDHUuMlcYzRpVhFBt3Cix\no3yBmprB3jsEs/6nBOKMKbZDE3M9QIj8L0UQs9plZdeWy81YxUTSTVekEbeIrG6HsjqB9OpYvDqN\nq8iNtxVzHm8Ni6U6liSzvuFs+mrrR1Si2UBscDLPGoeRLPkwS767h6bmLKqQzbYT5nsoq+i9LvSZ\n6D3l6p2AscA73u/FGLON+70OGAbMBeZ6+c8DU4E64H0v/1LgZ5/xvd5zoSQlKUlJStLnpj3R6aq6\nxyP/gpkO8DRwBvCqiEwAylS1SUR+AzwmIndjzDrjgeV2wbdFRKYAK4ArgH/Z3cf21GaVIEGCBAm+\nGPbE1fNx4HRgmIh8AtwC/AL4pYi8C3RjlDmqukZEngTWAD3A1RqvKM2h0NXz+a+WlAQJEiRIsKc4\nIP+Gb4IECRIk2Ls4oMI7iMhMEflARD4UkZ/s7/LsTYjIRhF5W0RWichym1crIi+KyFoReUFEarz7\nbxSRdSLyvojM2H8l/3IQkQUi0iAi73h5faZbRCaLyDtWVu7d13R8GeyGB7eIyCYRWWnTTO9af+TB\nGBF5RURWi8i7InKdzR9oslDMh2tt/t6Xhz1dHNjbCdMRrccsLpcCbwET93e59iK9GzAeU37eHcCP\n7flPgNvt+SRgFcZMN87ySfY3DV+Q7lOAYyl0IOgz3cAy4ER7vhg4e3/T9iV5cAtwwy7uPaqf8qAO\nONaeDwLWAhMHoCzsjg97XR4OpJH/FGCdqn6sqj3AE8Dsz3nm6wznR+pjNvCwPX8YuMCezwKeUNWc\nqm7EeFdN2ReF/KqhqkuBnUXZfaJbROqAalVdYe97xHvmgMdueACFThUOs+mfPNiqqm/Z83bgfUxU\ngIEmC7vig9sDtVfl4UBS/sUbxD53I9jXHAosEZEVInKlzRulqg1ghAKwsXt3u3muv2BkH+nu86bB\nrwmuEZG3RGS+Z+7o9zwQkXGYmdAb9L0N9Ec+uL/evlfl4UBS/gMNJ6vqZOBcYI6InIrpEHwM1NX4\ngUj3g8DhqnossBW4az+XZ59ARAYB/4kJAtnOAG0Du+DDXpeHA0n51wOHer/H2Lx+CVXdYo+NmH0T\nU4AGERkFYKdx7q9T1AOHeI/3N970le5+xw9VbVRrrAXmEZv1+i0PRKQEo/AeVdVnbPaAk4Vd8WFf\nyMOBpPxXAONFZKyIlGF2Aff+6wz9ACJSaXt6RKQKmAG8i6H3+/a2PwVcg/gNcKmIlInIYdjNc/u0\n0F8tijcN9oluaw5oEZEpIiKYfSbP8PVCYYgYo+gcLgRcTOf+zINfAGtU9T4vbyDKQi8+7BN52N+r\n3UUr2TMxq93r8MJE9LcEHIbxZlqFUfpzbf5QTBjstcCLwBDvmRsxK/vvAzP2Nw1fgvbHgc2YzYGf\nAH8G1PaVbuB4y7t1mPDg+522L8mDR4B3rFw8jbF992cenIz5qwmuHay07b/PbaCf8mGvy0OyyStB\nggQJBiAOJLNPggQJEiTYR0iUf4IECRIMQCTKP0GCBAkGIBLlnyBBggQDEInyT5AgQYIBiET5J0iQ\nIMEARKL8EyRIkGAAIlH+CRIkSDAA8f98FtxPB0j1PwAAAABJRU5ErkJggg==\n",
      "text/plain": [
       "<matplotlib.figure.Figure at 0x12c5734d0>"
      ]
     },
     "metadata": {},
     "output_type": "display_data"
    }
   ],
   "source": [
    "img = screenshot_and_show()"
   ]
  },
  {
   "cell_type": "code",
   "execution_count": 14,
   "metadata": {
    "collapsed": false
   },
   "outputs": [
    {
     "data": {
      "text/plain": [
       "<matplotlib.image.AxesImage at 0x12c7b0a10>"
      ]
     },
     "execution_count": 14,
     "metadata": {},
     "output_type": "execute_result"
    },
    {
     "data": {
      "image/png": "iVBORw0KGgoAAAANSUhEUgAAAW0AAACxCAYAAAAPiuzCAAAABHNCSVQICAgIfAhkiAAAAAlwSFlz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\nrkJggg==\n",
      "text/plain": [
       "<matplotlib.figure.Figure at 0x12d5f1150>"
      ]
     },
     "metadata": {},
     "output_type": "display_data"
    }
   ],
   "source": [
    "img.shape\n",
    "img[:100,1200:1400,:].shape\n",
    "img2= img[65:130,1260:1410,::]\n",
    "plt.imshow(img2)"
   ]
  },
  {
   "cell_type": "code",
   "execution_count": 32,
   "metadata": {
    "collapsed": true
   },
   "outputs": [],
   "source": [
    "def doubleClick(refIMG):\n",
    "    im=ImageGrab.grab()\n",
    "    # if max => channel = 4\n",
    "    # if windows => channel = 3\n",
    "    channel = 4\n",
    "    img = np.array(im.getdata(),dtype='uint8').reshape((im.size[1],im.size[0],channel))\n",
    "    cx, cy  = template_match_center_point(img, refIMG)\n",
    "    #pyautogui.moveTo(cx, cy)\n",
    "    #pyautogui.doubleClick()"
   ]
  },
  {
   "cell_type": "code",
<<<<<<< Updated upstream
   "execution_count": 44,
=======
   "execution_count": 35,
>>>>>>> Stashed changes
   "metadata": {
    "collapsed": false
   },
   "outputs": [
    {
     "name": "stdout",
     "output_type": "stream",
     "text": [
<<<<<<< Updated upstream
      "((1119, 373), (2655L, 1237L))\n"
=======
      "[[ 0.1902816   0.19387679  0.18936786 ...,  0.01941432  0.02472639\n",
      "   0.02619522]\n",
      " [ 0.17201518  0.1795719   0.1764036  ...,  0.02015135  0.02427087\n",
      "   0.02432317]\n",
      " [ 0.14490384  0.15435235  0.15410721 ...,  0.00966595  0.01307641\n",
      "   0.01255893]\n",
      " ..., \n",
      " [-0.0512849  -0.05609647 -0.06059949 ...,  0.05852683  0.05604992\n",
      "   0.05492279]\n",
      " [-0.04780909 -0.0532054  -0.05781208 ...,  0.05480868  0.05164535\n",
      "   0.05032704]\n",
      " [-0.03987729 -0.04564019 -0.05070635 ...,  0.05064784  0.04717015\n",
      "   0.0463713 ]]\n",
      "-0.330885708332 0.935840785503 (2152, 405) (1098, 65)\n",
      "((1098, 65), (3658, 1665))\n"
     ]
    },
    {
     "ename": "NameError",
     "evalue": "global name 'pyautogui' is not defined",
     "output_type": "error",
     "traceback": [
      "\u001b[0;31m---------------------------------------------------------------------------\u001b[0m",
      "\u001b[0;31mNameError\u001b[0m                                 Traceback (most recent call last)",
      "\u001b[0;32m<ipython-input-35-13ae35542d3e>\u001b[0m in \u001b[0;36m<module>\u001b[0;34m()\u001b[0m\n\u001b[0;32m----> 1\u001b[0;31m \u001b[0mdoubleClick\u001b[0m\u001b[0;34m(\u001b[0m\u001b[0mimg2\u001b[0m\u001b[0;34m)\u001b[0m\u001b[0;34m\u001b[0m\u001b[0m\n\u001b[0m",
      "\u001b[0;32m<ipython-input-34-106376a3736f>\u001b[0m in \u001b[0;36mdoubleClick\u001b[0;34m(refIMG)\u001b[0m\n\u001b[1;32m     38\u001b[0m     \u001b[0mimg\u001b[0m \u001b[0;34m=\u001b[0m \u001b[0mnp\u001b[0m\u001b[0;34m.\u001b[0m\u001b[0marray\u001b[0m\u001b[0;34m(\u001b[0m\u001b[0mim\u001b[0m\u001b[0;34m.\u001b[0m\u001b[0mgetdata\u001b[0m\u001b[0;34m(\u001b[0m\u001b[0;34m)\u001b[0m\u001b[0;34m,\u001b[0m\u001b[0mdtype\u001b[0m\u001b[0;34m=\u001b[0m\u001b[0;34m'uint8'\u001b[0m\u001b[0;34m)\u001b[0m\u001b[0;34m.\u001b[0m\u001b[0mreshape\u001b[0m\u001b[0;34m(\u001b[0m\u001b[0;34m(\u001b[0m\u001b[0mim\u001b[0m\u001b[0;34m.\u001b[0m\u001b[0msize\u001b[0m\u001b[0;34m[\u001b[0m\u001b[0;36m1\u001b[0m\u001b[0;34m]\u001b[0m\u001b[0;34m,\u001b[0m\u001b[0mim\u001b[0m\u001b[0;34m.\u001b[0m\u001b[0msize\u001b[0m\u001b[0;34m[\u001b[0m\u001b[0;36m0\u001b[0m\u001b[0;34m]\u001b[0m\u001b[0;34m,\u001b[0m\u001b[0;36m4\u001b[0m\u001b[0;34m)\u001b[0m\u001b[0;34m)\u001b[0m\u001b[0;34m\u001b[0m\u001b[0m\n\u001b[1;32m     39\u001b[0m     \u001b[0mcx\u001b[0m\u001b[0;34m,\u001b[0m \u001b[0mcy\u001b[0m  \u001b[0;34m=\u001b[0m \u001b[0mtemplate_match_center_point\u001b[0m\u001b[0;34m(\u001b[0m\u001b[0mimg\u001b[0m\u001b[0;34m,\u001b[0m \u001b[0mrefIMG\u001b[0m\u001b[0;34m)\u001b[0m\u001b[0;34m\u001b[0m\u001b[0m\n\u001b[0;32m---> 40\u001b[0;31m     \u001b[0mpyautogui\u001b[0m\u001b[0;34m.\u001b[0m\u001b[0mmoveTo\u001b[0m\u001b[0;34m(\u001b[0m\u001b[0mcx\u001b[0m\u001b[0;34m,\u001b[0m \u001b[0mcy\u001b[0m\u001b[0;34m)\u001b[0m\u001b[0;34m\u001b[0m\u001b[0m\n\u001b[0m\u001b[1;32m     41\u001b[0m     \u001b[0mpyautogui\u001b[0m\u001b[0;34m.\u001b[0m\u001b[0mdoubleClick\u001b[0m\u001b[0;34m(\u001b[0m\u001b[0;34m)\u001b[0m\u001b[0;34m\u001b[0m\u001b[0m\n\u001b[1;32m     42\u001b[0m \u001b[0;34m\u001b[0m\u001b[0m\n",
      "\u001b[0;31mNameError\u001b[0m: global name 'pyautogui' is not defined"
>>>>>>> Stashed changes
     ]
    }
   ],
   "source": [
    "doubleClick(img2)\n"
   ]
  },
  {
   "cell_type": "code",
   "execution_count": 49,
   "metadata": {
    "collapsed": false
   },
   "outputs": [],
   "source": [
    "import ipywidgets as widgets\n",
    "from IPython.display import display\n",
    "button = widgets.Button(description=\"Click Me!\")\n",
    "display(button)\n",
    "\n",
    "def on_button_clicked(b):\n",
    "    print (\"Button clicked.\")"
   ]
  },
  {
   "cell_type": "code",
   "execution_count": 55,
   "metadata": {
    "collapsed": false
   },
   "outputs": [],
   "source": [
    "text4 = widgets.Text()\n",
    "\n",
    "display(text)\n",
    "\n",
    "def handle_submit(sender):\n",
    "    '''have starX,starY,endX,enY'''\n",
    "    starX,starY,endX,endY = (text.value).split(',')\n",
    "    int()\n",
    "    img2= img[int(starX):int(endX),int(starY):int(endY),::]\n",
    "    plt.imshow(img2)\n",
    "\n",
    "text.on_submit(handle_submit)"
   ]
  },
  {
   "cell_type": "code",
   "execution_count": null,
   "metadata": {
    "collapsed": true
   },
   "outputs": [],
   "source": []
  }
 ],
 "metadata": {
  "anaconda-cloud": {},
  "kernelspec": {
   "display_name": "Python 2",
   "language": "python",
   "name": "python2"
  },
  "language_info": {
   "codemirror_mode": {
    "name": "ipython",
    "version": 2
   },
   "file_extension": ".py",
   "mimetype": "text/x-python",
   "name": "python",
   "nbconvert_exporter": "python",
   "pygments_lexer": "ipython2",
   "version": "2.7.12"
  }
 },
 "nbformat": 4,
 "nbformat_minor": 0
}
